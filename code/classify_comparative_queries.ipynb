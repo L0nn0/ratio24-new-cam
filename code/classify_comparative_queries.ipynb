{
 "cells": [
  {
   "cell_type": "code",
   "execution_count": 6,
   "metadata": {},
   "outputs": [
    {
     "ename": "ImportError",
     "evalue": "cannot import name 'XLMRobertaForSequenceClassication' from 'transformers' (/opt/conda/lib/python3.10/site-packages/transformers/__init__.py)",
     "output_type": "error",
     "traceback": [
      "\u001b[0;31m---------------------------------------------------------------------------\u001b[0m",
      "\u001b[0;31mImportError\u001b[0m                               Traceback (most recent call last)",
      "Cell \u001b[0;32mIn[6], line 2\u001b[0m\n\u001b[1;32m      1\u001b[0m \u001b[38;5;28;01mfrom\u001b[39;00m \u001b[38;5;21;01mtira\u001b[39;00m\u001b[38;5;21;01m.\u001b[39;00m\u001b[38;5;21;01mthird_party_integrations\u001b[39;00m \u001b[38;5;28;01mimport\u001b[39;00m ir_datasets, get_output_directory\n\u001b[0;32m----> 2\u001b[0m \u001b[38;5;28;01mfrom\u001b[39;00m \u001b[38;5;21;01mtransformers\u001b[39;00m \u001b[38;5;28;01mimport\u001b[39;00m XLMRobertaForSequenceClassication\n",
      "\u001b[0;31mImportError\u001b[0m: cannot import name 'XLMRobertaForSequenceClassication' from 'transformers' (/opt/conda/lib/python3.10/site-packages/transformers/__init__.py)"
     ]
    }
   ],
   "source": [
    "from tira.third_party_integrations import ir_datasets, get_output_directory\n",
    "from transformers import XLMRobertaForSequenceClassication"
   ]
  },
  {
   "cell_type": "code",
   "execution_count": 2,
   "metadata": {},
   "outputs": [],
   "source": [
    "dataset = ir_datasets.load('workshop-on-open-web-search/query-processing-20231027-training')"
   ]
  },
  {
   "cell_type": "code",
   "execution_count": 5,
   "metadata": {},
   "outputs": [
    {
     "ename": "NameError",
     "evalue": "name 'XLMRobertaForSequenceClassication' is not defined",
     "output_type": "error",
     "traceback": [
      "\u001b[0;31m---------------------------------------------------------------------------\u001b[0m",
      "\u001b[0;31mNameError\u001b[0m                                 Traceback (most recent call last)",
      "Cell \u001b[0;32mIn[5], line 1\u001b[0m\n\u001b[0;32m----> 1\u001b[0m model \u001b[38;5;241m=\u001b[39m \u001b[43mXLMRobertaForSequenceClassication\u001b[49m\u001b[38;5;241m.\u001b[39mfrom_pretrained(\u001b[38;5;124m'\u001b[39m\u001b[38;5;124mOnnoLander/XLMRoberta-comparative-questions\u001b[39m\u001b[38;5;124m'\u001b[39m)\n",
      "\u001b[0;31mNameError\u001b[0m: name 'XLMRobertaForSequenceClassication' is not defined"
     ]
    }
   ],
   "source": [
    "model = XLMRobertaForSequenceClassication.from_pretrained('OnnoLander/XLMRoberta-comparative-questions')"
   ]
  },
  {
   "cell_type": "code",
   "execution_count": 4,
   "metadata": {},
   "outputs": [
    {
     "name": "stdout",
     "output_type": "stream",
     "text": [
      "TirexQuery(query_id='1', text='hubble telescope achievements', title='hubble telescope achievements', query='hubble telescope achievements', description=None, narrative=None)\n",
      "TirexQuery(query_id='2', text='how to exit vim?', title='how to exit vim?', query='how to exit vim?', description=None, narrative=None)\n",
      "TirexQuery(query_id='3', text='signs heart attack', title='signs heart attack', query='signs heart attack', description=None, narrative=None)\n"
     ]
    }
   ],
   "source": [
    "for query in dataset.queries_iter():\n",
    "    print(query) "
   ]
  }
 ],
 "metadata": {
  "kernelspec": {
   "display_name": "base",
   "language": "python",
   "name": "python3"
  },
  "language_info": {
   "codemirror_mode": {
    "name": "ipython",
    "version": 3
   },
   "file_extension": ".py",
   "mimetype": "text/x-python",
   "name": "python",
   "nbconvert_exporter": "python",
   "pygments_lexer": "ipython3",
   "version": "3.10.13"
  }
 },
 "nbformat": 4,
 "nbformat_minor": 2
}
