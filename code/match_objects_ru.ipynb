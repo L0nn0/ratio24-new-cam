{
 "cells": [
  {
   "cell_type": "code",
   "execution_count": 3,
   "metadata": {},
   "outputs": [
    {
     "name": "stdout",
     "output_type": "stream",
     "text": [
      "Match found: ('Your', 'input')\n",
      "Match found: ('string', 'here')\n"
     ]
    }
   ],
   "source": [
    "import pandas as pd\n",
    "\n"
   ]
  },
  {
   "cell_type": "code",
   "execution_count": 6,
   "metadata": {},
   "outputs": [
    {
     "name": "stdout",
     "output_type": "stream",
     "text": [
      "[]\n"
     ]
    }
   ],
   "source": [
    "import re\n",
    "\n",
    "text = \"The cat runs quickly and the dog is running too.\"\n",
    "\n",
    "lemma = \"run\"\n",
    "pattern = r'\\b{}\\b'.format(lemma)\n",
    "\n",
    "matches = re.findall(pattern, text)\n",
    "\n",
    "print(matches)"
   ]
  },
  {
   "cell_type": "code",
   "execution_count": 28,
   "metadata": {},
   "outputs": [
    {
     "name": "stdout",
     "output_type": "stream",
     "text": [
      "['cat'] ['dog', 'dog']\n",
      "['The', '[FIRST_ENTITY]', 'runs', 'quickly', 'and', 'the', '[SECOND_ENTITY]', 'is', 'running', 'too', '[SECOND_ENTITY]']\n"
     ]
    }
   ],
   "source": [
    "import re\n",
    "import string\n",
    "\n",
    "text = \"The cat runs quickly and the dog is running too dog.\"\n",
    "\n",
    "lemma1 = \"ca\"\n",
    "lemma2 = \"do\"\n",
    "\n",
    "pattern1 = fr'\\b\\w*{lemma1}\\w*\\b'\n",
    "pattern2 = fr'\\b\\w*{lemma2}\\w*\\b'\n",
    "\n",
    "matches1 = re.findall(pattern1, text)\n",
    "matches2 = re.findall(pattern2, text)\n",
    "\n",
    "print(matches1, matches2)\n",
    "\n",
    "masked_text = ['[FIRST_ENTITY]' if w in matches1 else '[SECOND_ENTITY]' if w in matches2 else w for w in text.translate(\n",
    "    str.maketrans('', '', string.punctuation)).split()]\n",
    "print(masked_text)"
   ]
  }
 ],
 "metadata": {
  "kernelspec": {
   "display_name": "Python 3",
   "language": "python",
   "name": "python3"
  },
  "language_info": {
   "codemirror_mode": {
    "name": "ipython",
    "version": 3
   },
   "file_extension": ".py",
   "mimetype": "text/x-python",
   "name": "python",
   "nbconvert_exporter": "python",
   "pygments_lexer": "ipython3",
   "version": "3.10.12"
  }
 },
 "nbformat": 4,
 "nbformat_minor": 2
}
