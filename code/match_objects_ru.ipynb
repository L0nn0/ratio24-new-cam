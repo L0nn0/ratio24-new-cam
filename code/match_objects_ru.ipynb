{
 "cells": [
  {
   "cell_type": "code",
   "execution_count": 13,
   "metadata": {},
   "outputs": [
    {
     "name": "stdout",
     "output_type": "stream",
     "text": [
      "/home/bondarenko/laptop/Jena/research/ACQuA/ratio-24/ratio24-new-cam\n"
     ]
    }
   ],
   "source": [
    "import pandas as pd\n",
    "from pathlib import Path\n",
    "import os\n",
    "\n",
    "if not os.getcwd().endswith('ratio24-new-cam'):\n",
    "    os.chdir('../')\n",
    "print(os.getcwd())\n",
    "\n",
    "DATA_PATH = Path('data')\n",
    "\n",
    "df_test = pd.read_csv(os.path.join(DATA_PATH, 'ru_sentences_with_objs.tsv'), sep='\\t', encoding='utf-8')\n",
    "df_test = df_test.rename(columns={\"text\": \"answer\", \"tag\": \"labels\"})\n",
    "df_test[\"labels\"].replace({\"NONE\": 0, \"BETTER\": 2, \"WORSE\": 3}, inplace=True)"
   ]
  },
  {
   "cell_type": "code",
   "execution_count": 14,
   "metadata": {},
   "outputs": [
    {
     "data": {
      "text/html": [
       "<div>\n",
       "<style scoped>\n",
       "    .dataframe tbody tr th:only-of-type {\n",
       "        vertical-align: middle;\n",
       "    }\n",
       "\n",
       "    .dataframe tbody tr th {\n",
       "        vertical-align: top;\n",
       "    }\n",
       "\n",
       "    .dataframe thead th {\n",
       "        text-align: right;\n",
       "    }\n",
       "</style>\n",
       "<table border=\"1\" class=\"dataframe\">\n",
       "  <thead>\n",
       "    <tr style=\"text-align: right;\">\n",
       "      <th></th>\n",
       "      <th>labels</th>\n",
       "      <th>answer</th>\n",
       "      <th>Object1</th>\n",
       "      <th>Object2</th>\n",
       "      <th>CommonObj</th>\n",
       "      <th>Aspect</th>\n",
       "    </tr>\n",
       "  </thead>\n",
       "  <tbody>\n",
       "    <tr>\n",
       "      <th>0</th>\n",
       "      <td>0</td>\n",
       "      <td>Смотреть фильмы онлайн удобнее всего в браузер...</td>\n",
       "      <td>Internet, Explorer</td>\n",
       "      <td>Firefox</td>\n",
       "      <td>NaN</td>\n",
       "      <td>NaN</td>\n",
       "    </tr>\n",
       "    <tr>\n",
       "      <th>1</th>\n",
       "      <td>0</td>\n",
       "      <td>Было бы лучше, если бы я мог двигать мускулами...</td>\n",
       "      <td>люд</td>\n",
       "      <td>животн</td>\n",
       "      <td>NaN</td>\n",
       "      <td>NaN</td>\n",
       "    </tr>\n",
       "    <tr>\n",
       "      <th>2</th>\n",
       "      <td>0</td>\n",
       "      <td>Бренды наряду с известными в европе производит...</td>\n",
       "      <td>лондон</td>\n",
       "      <td>париж</td>\n",
       "      <td>NaN</td>\n",
       "      <td>NaN</td>\n",
       "    </tr>\n",
       "    <tr>\n",
       "      <th>3</th>\n",
       "      <td>3</td>\n",
       "      <td>В спонже копятся бактерии, а глубоко промыть е...</td>\n",
       "      <td>кист</td>\n",
       "      <td>спонж</td>\n",
       "      <td>NaN</td>\n",
       "      <td>NaN</td>\n",
       "    </tr>\n",
       "    <tr>\n",
       "      <th>4</th>\n",
       "      <td>0</td>\n",
       "      <td>При нанесении тональника лучше использовать сп...</td>\n",
       "      <td>кист</td>\n",
       "      <td>спонж</td>\n",
       "      <td>NaN</td>\n",
       "      <td>NaN</td>\n",
       "    </tr>\n",
       "  </tbody>\n",
       "</table>\n",
       "</div>"
      ],
      "text/plain": [
       "   labels                                             answer  \\\n",
       "0       0  Смотреть фильмы онлайн удобнее всего в браузер...   \n",
       "1       0  Было бы лучше, если бы я мог двигать мускулами...   \n",
       "2       0  Бренды наряду с известными в европе производит...   \n",
       "3       3  В спонже копятся бактерии, а глубоко промыть е...   \n",
       "4       0  При нанесении тональника лучше использовать сп...   \n",
       "\n",
       "              Object1  Object2 CommonObj Aspect  \n",
       "0  Internet, Explorer  Firefox       NaN    NaN  \n",
       "1                 люд   животн       NaN    NaN  \n",
       "2              лондон    париж       NaN    NaN  \n",
       "3                кист    спонж       NaN    NaN  \n",
       "4                кист    спонж       NaN    NaN  "
      ]
     },
     "execution_count": 14,
     "metadata": {},
     "output_type": "execute_result"
    }
   ],
   "source": [
    "df_test.head()"
   ]
  },
  {
   "cell_type": "code",
   "execution_count": 15,
   "metadata": {},
   "outputs": [],
   "source": [
    "import re\n",
    "import string\n",
    "\n",
    "\n",
    "def mask_objects_ru(row):\n",
    "\n",
    "    object_1 = row[\"Object1\"].translate(\n",
    "        str.maketrans('', '', string.punctuation))\n",
    "    object_2 = row[\"Object2\"].translate(\n",
    "        str.maketrans('', '', string.punctuation))\n",
    "    text = row[\"answer\"]\n",
    "\n",
    "    # pattern1 = fr'\\b\\w*{object_1}\\w*\\b'\n",
    "    # pattern2 = fr'\\b\\w*{object_2}\\w*\\b'\n",
    "    pattern1 = fr'\\b{object_1}\\w*\\b'\n",
    "    pattern2 = fr'\\b{object_2}\\w*\\b'\n",
    "\n",
    "    masked_text = re.sub(pattern1, '[FIRST_ENTITY]', text, flags=re.IGNORECASE)\n",
    "    masked_final = re.sub(\n",
    "        pattern2, '[SECOND_ENTITY]', masked_text, flags=re.IGNORECASE)\n",
    "    row[\"text\"] = masked_final\n",
    "\n",
    "    return row\n",
    "\n",
    "\n",
    "def transform_data_ru(df):\n",
    "  df = df.apply(mask_objects_ru, axis=1)\n",
    "  return df"
   ]
  },
  {
   "cell_type": "code",
   "execution_count": 16,
   "metadata": {},
   "outputs": [],
   "source": [
    "df_test = transform_data_ru(df_test)\n",
    "\n",
    "# df_test.to_csv(os.path.join(DATA_PATH, 'ru_sentences_with_objs_masked.tsv'), sep='\\t', encoding='utf-8', index=False)"
   ]
  }
 ],
 "metadata": {
  "kernelspec": {
   "display_name": "Python 3",
   "language": "python",
   "name": "python3"
  },
  "language_info": {
   "codemirror_mode": {
    "name": "ipython",
    "version": 3
   },
   "file_extension": ".py",
   "mimetype": "text/x-python",
   "name": "python",
   "nbconvert_exporter": "python",
   "pygments_lexer": "ipython3",
   "version": "3.10.12"
  }
 },
 "nbformat": 4,
 "nbformat_minor": 2
}
