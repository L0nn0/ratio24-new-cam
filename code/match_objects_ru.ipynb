{
 "cells": [
  {
   "cell_type": "code",
   "execution_count": 3,
   "metadata": {},
   "outputs": [
    {
     "name": "stdout",
     "output_type": "stream",
     "text": [
      "Match found: ('Your', 'input')\n",
      "Match found: ('string', 'here')\n"
     ]
    }
   ],
   "source": [
    "import re\n",
    "\n",
    "text = \"Your input string here\"\n",
    "\n",
    "pattern = r'\\b(\\w+)\\s+(\\w+)\\b'\n",
    "\n",
    "matches = re.findall(pattern, text)\n",
    "\n",
    "for match in matches:\n",
    "    print(f\"Match found: {match}\")"
   ]
  },
  {
   "cell_type": "code",
   "execution_count": 6,
   "metadata": {},
   "outputs": [
    {
     "name": "stdout",
     "output_type": "stream",
     "text": [
      "[]\n"
     ]
    }
   ],
   "source": [
    "import re\n",
    "\n",
    "text = \"The cat runs quickly and the dog is running too.\"\n",
    "\n",
    "lemma = \"run\"\n",
    "pattern = r'\\b{}\\b'.format(lemma)\n",
    "\n",
    "matches = re.findall(pattern, text)\n",
    "\n",
    "print(matches)"
   ]
  },
  {
   "cell_type": "code",
   "execution_count": 18,
   "metadata": {},
   "outputs": [
    {
     "name": "stdout",
     "output_type": "stream",
     "text": [
      "['quickly']\n"
     ]
    }
   ],
   "source": [
    "import re\n",
    "\n",
    "text = \"The cat runs quickly and the dog is running too.\"\n",
    "\n",
    "lemma1 = \"uic\"\n",
    "lemma2 = \"nni\"\n",
    "\n",
    "pattern1 = fr'\\b\\w*{lemma1}\\w*\\b'\n",
    "pattern2 = fr'\\b\\w*{lemma2}\\w*\\b'\n",
    "\n",
    "matches = re.findall(pattern1, text)\n",
    "\n",
    "print(matches)"
   ]
  }
 ],
 "metadata": {
  "kernelspec": {
   "display_name": "Python 3",
   "language": "python",
   "name": "python3"
  },
  "language_info": {
   "codemirror_mode": {
    "name": "ipython",
    "version": 3
   },
   "file_extension": ".py",
   "mimetype": "text/x-python",
   "name": "python",
   "nbconvert_exporter": "python",
   "pygments_lexer": "ipython3",
   "version": "3.10.12"
  }
 },
 "nbformat": 4,
 "nbformat_minor": 2
}
