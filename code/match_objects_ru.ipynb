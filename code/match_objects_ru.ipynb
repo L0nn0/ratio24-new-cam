{
 "cells": [
  {
   "cell_type": "code",
   "execution_count": 13,
   "metadata": {},
   "outputs": [
    {
     "name": "stdout",
     "output_type": "stream",
     "text": [
      "/home/bondarenko/laptop/Jena/research/ACQuA/ratio-24/ratio24-new-cam\n"
     ]
    }
   ],
   "source": [
    "import pandas as pd\n",
    "from pathlib import Path\n",
    "import os\n",
    "\n",
    "if not os.getcwd().endswith('ratio24-new-cam'):\n",
    "    os.chdir('../')\n",
    "print(os.getcwd())\n",
    "\n",
    "DATA_PATH = Path('data')\n",
    "\n",
    "df_test = pd.read_csv(os.path.join(DATA_PATH, 'ru_sentences_with_objs.tsv'), sep='\\t', encoding='utf-8')\n",
    "df_test = df_test.rename(columns={\"text\": \"answer\", \"tag\": \"labels\"})\n",
    "df_test[\"labels\"].replace({\"NONE\": 0, \"BETTER\": 2, \"WORSE\": 3}, inplace=True)"
   ]
  },
  {
   "cell_type": "code",
   "execution_count": 14,
   "metadata": {},
   "outputs": [
    {
     "data": {
      "text/html": [
       "<div>\n",
       "<style scoped>\n",
       "    .dataframe tbody tr th:only-of-type {\n",
       "        vertical-align: middle;\n",
       "    }\n",
       "\n",
       "    .dataframe tbody tr th {\n",
       "        vertical-align: top;\n",
       "    }\n",
       "\n",
       "    .dataframe thead th {\n",
       "        text-align: right;\n",
       "    }\n",
       "</style>\n",
       "<table border=\"1\" class=\"dataframe\">\n",
       "  <thead>\n",
       "    <tr style=\"text-align: right;\">\n",
       "      <th></th>\n",
       "      <th>labels</th>\n",
       "      <th>answer</th>\n",
       "      <th>Object1</th>\n",
       "      <th>Object2</th>\n",
       "      <th>CommonObj</th>\n",
       "      <th>Aspect</th>\n",
       "    </tr>\n",
       "  </thead>\n",
       "  <tbody>\n",
       "    <tr>\n",
       "      <th>0</th>\n",
       "      <td>0</td>\n",
       "      <td>Смотреть фильмы онлайн удобнее всего в браузер...</td>\n",
       "      <td>Internet, Explorer</td>\n",
       "      <td>Firefox</td>\n",
       "      <td>NaN</td>\n",
       "      <td>NaN</td>\n",
       "    </tr>\n",
       "    <tr>\n",
       "      <th>1</th>\n",
       "      <td>0</td>\n",
       "      <td>Было бы лучше, если бы я мог двигать мускулами...</td>\n",
       "      <td>люд</td>\n",
       "      <td>животн</td>\n",
       "      <td>NaN</td>\n",
       "      <td>NaN</td>\n",
       "    </tr>\n",
       "    <tr>\n",
       "      <th>2</th>\n",
       "      <td>0</td>\n",
       "      <td>Бренды наряду с известными в европе производит...</td>\n",
       "      <td>лондон</td>\n",
       "      <td>париж</td>\n",
       "      <td>NaN</td>\n",
       "      <td>NaN</td>\n",
       "    </tr>\n",
       "    <tr>\n",
       "      <th>3</th>\n",
       "      <td>3</td>\n",
       "      <td>В спонже копятся бактерии, а глубоко промыть е...</td>\n",
       "      <td>кист</td>\n",
       "      <td>спонж</td>\n",
       "      <td>NaN</td>\n",
       "      <td>NaN</td>\n",
       "    </tr>\n",
       "    <tr>\n",
       "      <th>4</th>\n",
       "      <td>0</td>\n",
       "      <td>При нанесении тональника лучше использовать сп...</td>\n",
       "      <td>кист</td>\n",
       "      <td>спонж</td>\n",
       "      <td>NaN</td>\n",
       "      <td>NaN</td>\n",
       "    </tr>\n",
       "  </tbody>\n",
       "</table>\n",
       "</div>"
      ],
      "text/plain": [
       "   labels                                             answer  \\\n",
       "0       0  Смотреть фильмы онлайн удобнее всего в браузер...   \n",
       "1       0  Было бы лучше, если бы я мог двигать мускулами...   \n",
       "2       0  Бренды наряду с известными в европе производит...   \n",
       "3       3  В спонже копятся бактерии, а глубоко промыть е...   \n",
       "4       0  При нанесении тональника лучше использовать сп...   \n",
       "\n",
       "              Object1  Object2 CommonObj Aspect  \n",
       "0  Internet, Explorer  Firefox       NaN    NaN  \n",
       "1                 люд   животн       NaN    NaN  \n",
       "2              лондон    париж       NaN    NaN  \n",
       "3                кист    спонж       NaN    NaN  \n",
       "4                кист    спонж       NaN    NaN  "
      ]
     },
     "execution_count": 14,
     "metadata": {},
     "output_type": "execute_result"
    }
   ],
   "source": [
    "df_test.head()"
   ]
  },
  {
   "cell_type": "code",
   "execution_count": 15,
   "metadata": {},
   "outputs": [],
   "source": [
    "import re\n",
    "import string\n",
    "\n",
    "\n",
    "def mask_objects_ru(row):\n",
    "\n",
    "    object_1 = row[\"Object1\"].translate(\n",
    "        str.maketrans('', '', string.punctuation))\n",
    "    object_2 = row[\"Object2\"].translate(\n",
    "        str.maketrans('', '', string.punctuation))\n",
    "    text = row[\"answer\"]\n",
    "\n",
    "    # pattern1 = fr'\\b\\w*{object_1}\\w*\\b'\n",
    "    # pattern2 = fr'\\b\\w*{object_2}\\w*\\b'\n",
    "    pattern1 = fr'\\b{object_1}\\w*\\b'\n",
    "    pattern2 = fr'\\b{object_2}\\w*\\b'\n",
    "\n",
    "    masked_text = re.sub(pattern1, '[FIRST_ENTITY]', text, flags=re.IGNORECASE)\n",
    "    masked_final = re.sub(\n",
    "        pattern2, '[SECOND_ENTITY]', masked_text, flags=re.IGNORECASE)\n",
    "    row[\"text\"] = masked_final\n",
    "\n",
    "    return row\n",
    "\n",
    "\n",
    "def transform_data_ru(df):\n",
    "  df = df.apply(mask_objects_ru, axis=1)\n",
    "  return df"
   ]
  },
  {
   "cell_type": "code",
   "execution_count": 16,
   "metadata": {},
   "outputs": [],
   "source": [
    "df_test = transform_data_ru(df_test)\n",
    "\n",
    "# df_test.to_csv(os.path.join(DATA_PATH, 'ru_sentences_with_objs_masked.tsv'), sep='\\t', encoding='utf-8', index=False)"
   ]
  },
  {
   "cell_type": "code",
   "execution_count": 25,
   "metadata": {},
   "outputs": [
    {
     "name": "stdout",
     "output_type": "stream",
     "text": [
      "Html и css также работают быстрее в вашем браузере, чем [FIRST_ENTITY], и ваш браузер обычно предоставляет вам множество функций.\n",
      "Часть 2 vuejs - javascript фреймворк, который впитал в себя лучшее из [FIRST_ENTITY] и react.\n",
      "Считается, что [FIRST_ENTITY] сложнее изучить, чем связанные с ним технологии, наподобие html и css.\n",
      "Не считая того, для того чтоб сайт на нагом html смотрелся достойно и работал правильно, необходимы познания и по иным языкам: непременно по css, и очень лучше по [FIRST_ENTITY] и php.\n",
      "В августе разработчики заявляли о поддержке 4к на xbox one x и ps4 pro, однако только сейчас стали известны подробности улучшений на старших консолях microsoft и sony.\n",
      "Кто мог лучше выразить эти эмоции - хиллари клинтон, олицетворявшая статус-кво, или [FIRST_ENTITY], призывавший к переменам?...\n",
      "Значительно доработана поддержка веб-стандартов и улучшена обработка html, css (с полной поддержкой css 2.1) и [FIRST_ENTITY].\n",
      "На четвертом ближе познакомился с сайтостроением: html, css, [FIRST_ENTITY], php.\n",
      "Пользовательский интерфейс можно сделать еще лучше с точки зрения навигации и удобочитаемости, если использовать одновременно html, css и [FIRST_ENTITY].\n",
      "И sony, и microsoft, на ps4 slim и xbox one s представляют одно и то же новшество: более компактное и улучшенное воплощение своих толстеньких предшественников.\n",
      "[FIRST_ENTITY] разработан в 2009 году мишко хевери и адамом абронсом в brat tech llc как программное обеспечение позади сервиса хранения json-данных, измеряющихся мегабайтами, для облегчения разработки.\n",
      "Почему мы выбрали xbox one x: sony возглавила обновление консоли среднего поколения с ps4 pro, но, не торопясь, microsoft предоставила нам лучшее оборудование в xbox one x.\n",
      "От искусственных подсластителей лучше всего отказаться, поскольку они также вредны, как и белый сахар.\n",
      "Microsoft внесла некоторые изменения во внутреннее оборудование, но xbox one s ненамного быстрее, чем xbox one, и я думаю, что это важно подчеркнуть, поскольку sony сделала ps4 pro более чем в два раза быстрее, чем стандартный ps4.\n",
      "Ранее, веб-страницы отображаются в сырой образом, что пренебрегли лучший html, css, [FIRST_ENTITY], и другой был, и языки, кодирующие было предложить.\n",
      "Но, вы станете в миллиард раз лучше в своей работе, приложив усилия, чтобы понять, что такое html, css и [FIRST_ENTITY] и как каждый из них интерпретируется поисковыми системами.\n",
      "Экзит-полы morning consult и politico: американские избиратели не доверяют ни хиллари клинтон, ни дональду трампу, но отзываются о первой чуть лучше, чем о втором.\n",
      "Но там сложнее еще [FIRST_ENTITY] one нужен последний раз редактировалось scoolov;\n",
      "Хиллари клинтон уверена, что справилась бы с пандемией лучше трампа соперница президента сша дональда трампа на выборах главы государства в 2016 году хиллари клинтон уверена, что справилась бы с пандемией новой коронавирусной инфекции лучше него.\n",
      "Каждый из этих сладких батончиков содержит 14 граммов белка, всего 160 калорий.кроме того, в каждом есть только один грамм сахара и никаких искусственных подсластителей — лучше не бывает.\n",
      "Чехлы подходят для телефонов galaxy s8 (101 доллар в walmart) и новее, iphone 6 и новее, oneplus 6, 6t и 7 pro, а также [FIRST_ENTITY].\n",
      "А с точки зрения мвф, кто из кандидатов лучше для глобальной экономики – [FIRST_ENTITY] или хиллари клинтон?»\n",
      "Microsoft включила поддержку веб-стандартов, таких как css-анимацию, html5 проверку орфографии и улучшенную производительность [FIRST_ENTITY].\n",
      "Современный дизайн в сочетании с использованием новейших технологий и преимуществ html5, [FIRST_ENTITY] и css3, придают шаблону элегантный внешний вид, отличную функциональность и обеспечивают полную совместимость со всеми браузерами.\n",
      "Oneplus 5 по-прежнему отличный смартфон за свои деньги: это дешевле, чем samsung galaxy s8 за 725 долларов или iphone с [FIRST_ENTITY].\n",
      "Php, html, css и [FIRST_ENTITY] обычный html может быть до 20 раз быстрее, чем php.\n",
      "Все остальные подсластители, натуральные или искусственные, будут хуже по вкусу, чем тростниковый сахар.однако вкус белого кофе eversweett 3-в-1 без сахара легко усваивается.\n",
      "— плюсы и минусы html — как связаны html, css и [FIRST_ENTITY] — понимание html и улучшение ваших знаний html.\n",
      "Ознакомьтесь с продуктами, упомянутыми в этой статье: iphone xs (от 999, 99 долларов сша при лучшей покупке) [FIRST_ENTITY] 3 (от 799, 99 долларов сша при лучшей покупке) 1.\n",
      "Миател санкт-петербург ...по rest и websocket анализ, контроль и улучшение качества кода обязательные знания и навыки: уверенное владение [FIRST_ENTITY] es6+ знание html, css о...\n",
      "Samsung galaxy s7 продается лучше apple [SECOND_ENTITY] аналитики: продажи galaxy s7 и galaxy s7 edge достигнут цифры в 25 миллионов в южной корее за первые два дня было продано больше 100.000 единиц galaxy s7 и galaxy s7 edge нашли ошибку?\n"
     ]
    }
   ],
   "source": [
    "for idx, row in df_test.iterrows():\n",
    "    if '[FIRST_ENTITY]' in row[\"text\"] and '[SECOND_ENTITY]' not in row[\"text\"]:\n",
    "        print(row[\"text\"])\n",
    "    elif '[SECOND_ENTITY]' in row[\"text\"] and '[FIRST_ENTITY]' not in row[\"text\"]:\n",
    "        print(row[\"text\"])\n",
    "    elif '[SECOND_ENTITY]' not in row[\"text\"] or '[FIRST_ENTITY]' not in row[\"text\"]:\n",
    "        print(row[\"text\"])"
   ]
  }
 ],
 "metadata": {
  "kernelspec": {
   "display_name": "Python 3",
   "language": "python",
   "name": "python3"
  },
  "language_info": {
   "codemirror_mode": {
    "name": "ipython",
    "version": 3
   },
   "file_extension": ".py",
   "mimetype": "text/x-python",
   "name": "python",
   "nbconvert_exporter": "python",
   "pygments_lexer": "ipython3",
   "version": "3.10.12"
  }
 },
 "nbformat": 4,
 "nbformat_minor": 2
}
