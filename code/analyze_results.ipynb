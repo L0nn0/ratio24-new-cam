{
 "cells": [
  {
   "cell_type": "code",
   "execution_count": 1,
   "metadata": {},
   "outputs": [
    {
     "name": "stdout",
     "output_type": "stream",
     "text": [
      "/home/bondarenko/laptop/Jena/research/ACQuA/ratio-24/ratio24-new-cam\n",
      "/home/bondarenko\n"
     ]
    }
   ],
   "source": [
    "import pandas as pd\n",
    "from sklearn.metrics import classification_report\n",
    "from pathlib import Path \n",
    "import os\n",
    "\n",
    "#set current working directory to the root\n",
    "if not os.getcwd().endswith('ratio24-new-cam'):\n",
    "    os.chdir('../')\n",
    "print(os.getcwd())\n",
    "print(Path.home())"
   ]
  },
  {
   "cell_type": "markdown",
   "metadata": {},
   "source": [
    "##### XLM on rus test"
   ]
  },
  {
   "cell_type": "code",
   "execution_count": 5,
   "metadata": {},
   "outputs": [
    {
     "name": "stdout",
     "output_type": "stream",
     "text": [
      "137\n"
     ]
    },
    {
     "data": {
      "text/html": [
       "<div>\n",
       "<style scoped>\n",
       "    .dataframe tbody tr th:only-of-type {\n",
       "        vertical-align: middle;\n",
       "    }\n",
       "\n",
       "    .dataframe tbody tr th {\n",
       "        vertical-align: top;\n",
       "    }\n",
       "\n",
       "    .dataframe thead th {\n",
       "        text-align: right;\n",
       "    }\n",
       "</style>\n",
       "<table border=\"1\" class=\"dataframe\">\n",
       "  <thead>\n",
       "    <tr style=\"text-align: right;\">\n",
       "      <th></th>\n",
       "      <th>answer</th>\n",
       "      <th>tag</th>\n",
       "    </tr>\n",
       "  </thead>\n",
       "  <tbody>\n",
       "    <tr>\n",
       "      <th>0</th>\n",
       "      <td>Но от кофеинсодержащих напитков, в частности к...</td>\n",
       "      <td>0</td>\n",
       "    </tr>\n",
       "  </tbody>\n",
       "</table>\n",
       "</div>"
      ],
      "text/plain": [
       "                                              answer  tag\n",
       "0  Но от кофеинсодержащих напитков, в частности к...    0"
      ]
     },
     "execution_count": 5,
     "metadata": {},
     "output_type": "execute_result"
    }
   ],
   "source": [
    "INPUT_PATH = Path(\"data\")\n",
    "\n",
    "df_ru_test = pd.read_csv(os.path.join(INPUT_PATH, 'ru_test-2.tsv'), sep='\\t')\n",
    "print(len(df_ru_test))\n",
    "df_ru_test.head(1)"
   ]
  },
  {
   "cell_type": "code",
   "execution_count": 6,
   "metadata": {},
   "outputs": [
    {
     "name": "stdout",
     "output_type": "stream",
     "text": [
      "1208\n"
     ]
    },
    {
     "data": {
      "text/html": [
       "<div>\n",
       "<style scoped>\n",
       "    .dataframe tbody tr th:only-of-type {\n",
       "        vertical-align: middle;\n",
       "    }\n",
       "\n",
       "    .dataframe tbody tr th {\n",
       "        vertical-align: top;\n",
       "    }\n",
       "\n",
       "    .dataframe thead th {\n",
       "        text-align: right;\n",
       "    }\n",
       "</style>\n",
       "<table border=\"1\" class=\"dataframe\">\n",
       "  <thead>\n",
       "    <tr style=\"text-align: right;\">\n",
       "      <th></th>\n",
       "      <th>labels</th>\n",
       "      <th>answer</th>\n",
       "      <th>Object1</th>\n",
       "      <th>Object2</th>\n",
       "      <th>CommonObj</th>\n",
       "      <th>Aspect</th>\n",
       "      <th>text</th>\n",
       "      <th>pred_labels</th>\n",
       "      <th>pred_probs</th>\n",
       "    </tr>\n",
       "  </thead>\n",
       "  <tbody>\n",
       "    <tr>\n",
       "      <th>0</th>\n",
       "      <td>0</td>\n",
       "      <td>Смотреть фильмы онлайн удобнее всего в браузер...</td>\n",
       "      <td>Internet, Explorer</td>\n",
       "      <td>Firefox</td>\n",
       "      <td>NaN</td>\n",
       "      <td>NaN</td>\n",
       "      <td>Смотреть фильмы онлайн удобнее всего в браузер...</td>\n",
       "      <td>0</td>\n",
       "      <td>[9.99615757e-01 9.86837375e-06 2.25794376e-04 ...</td>\n",
       "    </tr>\n",
       "  </tbody>\n",
       "</table>\n",
       "</div>"
      ],
      "text/plain": [
       "   labels                                             answer  \\\n",
       "0       0  Смотреть фильмы онлайн удобнее всего в браузер...   \n",
       "\n",
       "              Object1  Object2 CommonObj Aspect  \\\n",
       "0  Internet, Explorer  Firefox       NaN    NaN   \n",
       "\n",
       "                                                text  pred_labels  \\\n",
       "0  Смотреть фильмы онлайн удобнее всего в браузер...            0   \n",
       "\n",
       "                                          pred_probs  \n",
       "0  [9.99615757e-01 9.86837375e-06 2.25794376e-04 ...  "
      ]
     },
     "execution_count": 6,
     "metadata": {},
     "output_type": "execute_result"
    }
   ],
   "source": [
    "INPUT_PATH = Path(\"data\")\n",
    "\n",
    "df_ru_full = pd.read_csv(os.path.join(INPUT_PATH, '5_epochs_ru_test.tsv'), sep='\\t')\n",
    "print(len(df_ru_full))\n",
    "df_ru_full.head(1)"
   ]
  },
  {
   "cell_type": "code",
   "execution_count": 11,
   "metadata": {},
   "outputs": [
    {
     "name": "stdout",
     "output_type": "stream",
     "text": [
      "119\n"
     ]
    },
    {
     "data": {
      "text/html": [
       "<div>\n",
       "<style scoped>\n",
       "    .dataframe tbody tr th:only-of-type {\n",
       "        vertical-align: middle;\n",
       "    }\n",
       "\n",
       "    .dataframe tbody tr th {\n",
       "        vertical-align: top;\n",
       "    }\n",
       "\n",
       "    .dataframe thead th {\n",
       "        text-align: right;\n",
       "    }\n",
       "</style>\n",
       "<table border=\"1\" class=\"dataframe\">\n",
       "  <thead>\n",
       "    <tr style=\"text-align: right;\">\n",
       "      <th></th>\n",
       "      <th>answer</th>\n",
       "      <th>tag</th>\n",
       "      <th>labels</th>\n",
       "      <th>Object1</th>\n",
       "      <th>Object2</th>\n",
       "      <th>CommonObj</th>\n",
       "      <th>Aspect</th>\n",
       "      <th>text</th>\n",
       "      <th>pred_labels</th>\n",
       "      <th>pred_probs</th>\n",
       "    </tr>\n",
       "  </thead>\n",
       "  <tbody>\n",
       "    <tr>\n",
       "      <th>0</th>\n",
       "      <td>Я хочу жить в городах, где люди работают вмест...</td>\n",
       "      <td>0</td>\n",
       "      <td>0</td>\n",
       "      <td>лондон</td>\n",
       "      <td>париж</td>\n",
       "      <td>NaN</td>\n",
       "      <td>NaN</td>\n",
       "      <td>Я хочу жить в городах, где люди работают вмест...</td>\n",
       "      <td>0</td>\n",
       "      <td>[9.99659976e-01 1.09133696e-05 1.92225211e-04 ...</td>\n",
       "    </tr>\n",
       "  </tbody>\n",
       "</table>\n",
       "</div>"
      ],
      "text/plain": [
       "                                              answer  tag  labels Object1  \\\n",
       "0  Я хочу жить в городах, где люди работают вмест...    0       0  лондон   \n",
       "\n",
       "  Object2 CommonObj Aspect                                               text  \\\n",
       "0   париж       NaN    NaN  Я хочу жить в городах, где люди работают вмест...   \n",
       "\n",
       "   pred_labels                                         pred_probs  \n",
       "0            0  [9.99659976e-01 1.09133696e-05 1.92225211e-04 ...  "
      ]
     },
     "execution_count": 11,
     "metadata": {},
     "output_type": "execute_result"
    }
   ],
   "source": [
    "df_merged = pd.merge(df_ru_test, df_ru_full, on='answer')\n",
    "print(len(df_merged))\n",
    "df_merged.head(1)"
   ]
  },
  {
   "cell_type": "code",
   "execution_count": 13,
   "metadata": {},
   "outputs": [
    {
     "name": "stdout",
     "output_type": "stream",
     "text": [
      "1208\n"
     ]
    },
    {
     "data": {
      "text/html": [
       "<div>\n",
       "<style scoped>\n",
       "    .dataframe tbody tr th:only-of-type {\n",
       "        vertical-align: middle;\n",
       "    }\n",
       "\n",
       "    .dataframe tbody tr th {\n",
       "        vertical-align: top;\n",
       "    }\n",
       "\n",
       "    .dataframe thead th {\n",
       "        text-align: right;\n",
       "    }\n",
       "</style>\n",
       "<table border=\"1\" class=\"dataframe\">\n",
       "  <thead>\n",
       "    <tr style=\"text-align: right;\">\n",
       "      <th></th>\n",
       "      <th>tag</th>\n",
       "      <th>text</th>\n",
       "      <th>Object1</th>\n",
       "      <th>Object2</th>\n",
       "      <th>CommonObj</th>\n",
       "      <th>Aspect</th>\n",
       "      <th>preds</th>\n",
       "    </tr>\n",
       "  </thead>\n",
       "  <tbody>\n",
       "    <tr>\n",
       "      <th>0</th>\n",
       "      <td>0</td>\n",
       "      <td>Смотреть фильмы онлайн удобнее всего в браузер...</td>\n",
       "      <td>Internet, Explorer</td>\n",
       "      <td>Firefox</td>\n",
       "      <td>NaN</td>\n",
       "      <td>NaN</td>\n",
       "      <td>0</td>\n",
       "    </tr>\n",
       "  </tbody>\n",
       "</table>\n",
       "</div>"
      ],
      "text/plain": [
       "   tag                                               text             Object1  \\\n",
       "0    0  Смотреть фильмы онлайн удобнее всего в браузер...  Internet, Explorer   \n",
       "\n",
       "   Object2 CommonObj Aspect  preds  \n",
       "0  Firefox       NaN    NaN      0  "
      ]
     },
     "execution_count": 13,
     "metadata": {},
     "output_type": "execute_result"
    }
   ],
   "source": [
    "INPUT_PATH = Path(\"results\")\n",
    "\n",
    "df_ru_l = pd.read_csv(os.path.join(INPUT_PATH, 'xlm_5epochs_preds_ru.tsv'), sep='\\t')\n",
    "print(len(df_ru_l))\n",
    "df_ru_l.head(1)"
   ]
  },
  {
   "cell_type": "code",
   "execution_count": 31,
   "metadata": {},
   "outputs": [
    {
     "name": "stdout",
     "output_type": "stream",
     "text": [
      "119\n"
     ]
    },
    {
     "data": {
      "text/html": [
       "<div>\n",
       "<style scoped>\n",
       "    .dataframe tbody tr th:only-of-type {\n",
       "        vertical-align: middle;\n",
       "    }\n",
       "\n",
       "    .dataframe tbody tr th {\n",
       "        vertical-align: top;\n",
       "    }\n",
       "\n",
       "    .dataframe thead th {\n",
       "        text-align: right;\n",
       "    }\n",
       "</style>\n",
       "<table border=\"1\" class=\"dataframe\">\n",
       "  <thead>\n",
       "    <tr style=\"text-align: right;\">\n",
       "      <th></th>\n",
       "      <th>answer</th>\n",
       "      <th>tag_x</th>\n",
       "      <th>labels</th>\n",
       "      <th>Object1_x</th>\n",
       "      <th>Object2_x</th>\n",
       "      <th>CommonObj_x</th>\n",
       "      <th>Aspect_x</th>\n",
       "      <th>text</th>\n",
       "      <th>pred_labels</th>\n",
       "      <th>pred_probs</th>\n",
       "      <th>tag_y</th>\n",
       "      <th>Object1_y</th>\n",
       "      <th>Object2_y</th>\n",
       "      <th>CommonObj_y</th>\n",
       "      <th>Aspect_y</th>\n",
       "      <th>preds</th>\n",
       "    </tr>\n",
       "  </thead>\n",
       "  <tbody>\n",
       "    <tr>\n",
       "      <th>0</th>\n",
       "      <td>Я хочу жить в городах, где люди работают вмест...</td>\n",
       "      <td>0</td>\n",
       "      <td>0</td>\n",
       "      <td>лондон</td>\n",
       "      <td>париж</td>\n",
       "      <td>NaN</td>\n",
       "      <td>NaN</td>\n",
       "      <td>Я хочу жить в городах, где люди работают вмест...</td>\n",
       "      <td>0</td>\n",
       "      <td>[9.99659976e-01 1.09133696e-05 1.92225211e-04 ...</td>\n",
       "      <td>0</td>\n",
       "      <td>лондон</td>\n",
       "      <td>париж</td>\n",
       "      <td>NaN</td>\n",
       "      <td>NaN</td>\n",
       "      <td>0</td>\n",
       "    </tr>\n",
       "    <tr>\n",
       "      <th>1</th>\n",
       "      <td>К тому же еще и полезной, ведь все мы знаем, ч...</td>\n",
       "      <td>2</td>\n",
       "      <td>2</td>\n",
       "      <td>запека</td>\n",
       "      <td>жар</td>\n",
       "      <td>NaN</td>\n",
       "      <td>полезн</td>\n",
       "      <td>К тому же еще и полезной, ведь все мы знаем, ч...</td>\n",
       "      <td>2</td>\n",
       "      <td>[5.05721943e-04 8.23925934e-05 9.99314597e-01 ...</td>\n",
       "      <td>1</td>\n",
       "      <td>запека</td>\n",
       "      <td>жар</td>\n",
       "      <td>NaN</td>\n",
       "      <td>полезн</td>\n",
       "      <td>1</td>\n",
       "    </tr>\n",
       "  </tbody>\n",
       "</table>\n",
       "</div>"
      ],
      "text/plain": [
       "                                              answer  tag_x  labels Object1_x  \\\n",
       "0  Я хочу жить в городах, где люди работают вмест...      0       0    лондон   \n",
       "1  К тому же еще и полезной, ведь все мы знаем, ч...      2       2    запека   \n",
       "\n",
       "  Object2_x CommonObj_x Aspect_x  \\\n",
       "0     париж         NaN      NaN   \n",
       "1       жар         NaN   полезн   \n",
       "\n",
       "                                                text  pred_labels  \\\n",
       "0  Я хочу жить в городах, где люди работают вмест...            0   \n",
       "1  К тому же еще и полезной, ведь все мы знаем, ч...            2   \n",
       "\n",
       "                                          pred_probs  tag_y Object1_y  \\\n",
       "0  [9.99659976e-01 1.09133696e-05 1.92225211e-04 ...      0    лондон   \n",
       "1  [5.05721943e-04 8.23925934e-05 9.99314597e-01 ...      1    запека   \n",
       "\n",
       "  Object2_y CommonObj_y Aspect_y  preds  \n",
       "0     париж         NaN      NaN      0  \n",
       "1       жар         NaN   полезн      1  "
      ]
     },
     "execution_count": 31,
     "metadata": {},
     "output_type": "execute_result"
    }
   ],
   "source": [
    "df_merged_l = pd.merge(df_merged, df_ru_l, on='text')\n",
    "print(len(df_merged_l))\n",
    "df_merged_l.head(2)"
   ]
  },
  {
   "cell_type": "code",
   "execution_count": 40,
   "metadata": {},
   "outputs": [
    {
     "name": "stdout",
     "output_type": "stream",
     "text": [
      "              precision    recall  f1-score   support\n",
      "\n",
      "      BETTER       0.86      0.60      0.71        20\n",
      "        NONE       0.90      0.97      0.93        91\n",
      "       WORSE       0.57      0.50      0.53         8\n",
      "\n",
      "    accuracy                           0.87       119\n",
      "   macro avg       0.78      0.69      0.72       119\n",
      "weighted avg       0.87      0.87      0.87       119\n",
      "\n"
     ]
    }
   ],
   "source": [
    "df_merged_l[\"preds\"].replace({0: \"NONE\", 1: \"BETTER\", 2: \"WORSE\"}, inplace=True)\n",
    "df_merged_l[\"labels\"].replace({0: \"NONE\", 2: \"BETTER\", 3: \"WORSE\"}, inplace=True)\n",
    "print(classification_report(y_true=df_merged_l.labels, y_pred=df_merged_l.preds))\n"
   ]
  },
  {
   "cell_type": "markdown",
   "metadata": {},
   "source": [
    "##### RoBERTa"
   ]
  },
  {
   "cell_type": "code",
   "execution_count": 4,
   "metadata": {},
   "outputs": [
    {
     "name": "stdout",
     "output_type": "stream",
     "text": [
      "              precision    recall  f1-score   support\n",
      "\n",
      "      BETTER       0.85      0.87      0.86       273\n",
      "        NONE       0.95      0.94      0.94      1048\n",
      "       WORSE       0.68      0.71      0.70       119\n",
      "\n",
      "    accuracy                           0.91      1440\n",
      "   macro avg       0.83      0.84      0.83      1440\n",
      "weighted avg       0.91      0.91      0.91      1440\n",
      "\n"
     ]
    }
   ],
   "source": [
    "INPUT_PATH = Path(\"results\")\n",
    "\n",
    "df_eng = pd.read_csv(os.path.join(INPUT_PATH, 'roberta_5epoch_preds.tsv'), sep='\\t')\n",
    "df_eng[\"preds\"].replace({0: \"NONE\", 1: \"BETTER\", 2: \"WORSE\"}, inplace=True)\n",
    "df_eng[\"labels\"].replace({0: \"NONE\", 1: \"BETTER\", 2: \"WORSE\"}, inplace=True)\n",
    "print(classification_report(y_true=df_eng.labels, y_pred=df_eng.preds))"
   ]
  },
  {
   "cell_type": "markdown",
   "metadata": {},
   "source": [
    "##### XLM-RoBERTa ENG"
   ]
  },
  {
   "cell_type": "code",
   "execution_count": 10,
   "metadata": {},
   "outputs": [
    {
     "name": "stdout",
     "output_type": "stream",
     "text": [
      "              precision    recall  f1-score   support\n",
      "\n",
      "      BETTER       0.87      0.88      0.87       273\n",
      "        NONE       0.96      0.94      0.95      1048\n",
      "       WORSE       0.65      0.73      0.69       119\n",
      "\n",
      "    accuracy                           0.91      1440\n",
      "   macro avg       0.82      0.85      0.84      1440\n",
      "weighted avg       0.91      0.91      0.91      1440\n",
      "\n"
     ]
    }
   ],
   "source": [
    "INPUT_PATH = Path(\"results\")\n",
    "\n",
    "df_eng = pd.read_csv(os.path.join(INPUT_PATH, 'xlm_5epochs_preds_en.tsv'), sep='\\t')\n",
    "df_eng[\"preds\"].replace({0: \"NONE\", 1: \"BETTER\", 2: \"WORSE\"}, inplace=True)\n",
    "df_eng[\"labels\"].replace({0: \"NONE\", 1: \"BETTER\", 2: \"WORSE\"}, inplace=True)\n",
    "print(classification_report(y_true=df_eng.labels, y_pred=df_eng.preds))"
   ]
  },
  {
   "cell_type": "markdown",
   "metadata": {},
   "source": [
    "##### XLM-RoBERTa ENG"
   ]
  },
  {
   "cell_type": "code",
   "execution_count": 13,
   "metadata": {},
   "outputs": [
    {
     "name": "stdout",
     "output_type": "stream",
     "text": [
      "              precision    recall  f1-score   support\n",
      "\n",
      "      BETTER       0.80      0.59      0.68       257\n",
      "        NONE       0.86      0.95      0.90       850\n",
      "       WORSE       0.58      0.50      0.53       101\n",
      "\n",
      "    accuracy                           0.83      1208\n",
      "   macro avg       0.75      0.68      0.71      1208\n",
      "weighted avg       0.83      0.83      0.82      1208\n",
      "\n"
     ]
    }
   ],
   "source": [
    "INPUT_PATH = Path(\"results\")\n",
    "\n",
    "df_eng = pd.read_csv(os.path.join(INPUT_PATH, 'xlm_5epochs_preds_ru.tsv'), sep='\\t')\n",
    "df_eng[\"preds\"].replace({0: \"NONE\", 1: \"BETTER\", 2: \"WORSE\"}, inplace=True)\n",
    "df_eng[\"tag\"].replace({0: \"NONE\", 1: \"BETTER\", 2: \"WORSE\"}, inplace=True)\n",
    "print(classification_report(y_true=df_eng.tag, y_pred=df_eng.preds))"
   ]
  },
  {
   "cell_type": "code",
   "execution_count": 6,
   "metadata": {},
   "outputs": [
    {
     "name": "stdout",
     "output_type": "stream",
     "text": [
      "5759 1440 7199\n",
      "0:  0.73, 2:  0.19, 3:  0.08\n"
     ]
    }
   ],
   "source": [
    "INPUT_PATH = Path(\"data\")\n",
    "\n",
    "df_train = pd.read_csv(os.path.join(INPUT_PATH, \"comparg_train.tsv\"), sep='\\t', encoding='utf-8')  \n",
    "df_test = pd.read_csv(os.path.join(INPUT_PATH, \"comparg_test.tsv\"), sep='\\t', encoding='utf-8')\n",
    "\n",
    "print(len(df_train), len(df_test), len(df_train)+len(df_test))\n",
    "labels = df_test.labels.tolist()\n",
    "print(f\"0: {labels.count(0)/len(labels): .2f}, 2: {labels.count(2)/len(labels): .2f}, 3: {labels.count(3)/len(labels): .2f}\")"
   ]
  },
  {
   "cell_type": "code",
   "execution_count": 10,
   "metadata": {},
   "outputs": [
    {
     "name": "stdout",
     "output_type": "stream",
     "text": [
      "1208\n",
      "NONE:  0.704, BETTER:  0.213, WORSE:  0.084\n"
     ]
    }
   ],
   "source": [
    "INPUT_PATH = Path(\"data\")\n",
    "\n",
    "df_test = pd.read_csv(os.path.join(INPUT_PATH, \"ru_sentences_with_objs.tsv\"), sep='\\t', encoding='utf-8')\n",
    "print(len(df_test))\n",
    "labels = df_test.tag.tolist()\n",
    "print(f\"NONE: {labels.count('NONE')/len(labels): .3f}, BETTER: {labels.count('BETTER')/len(labels): .3f}, WORSE: {labels.count('WORSE')/len(labels): .3f}\")"
   ]
  },
  {
   "cell_type": "code",
   "execution_count": 61,
   "metadata": {},
   "outputs": [
    {
     "name": "stdout",
     "output_type": "stream",
     "text": [
      "min: 1, max: 87\n",
      "              precision    recall  f1-score   support\n",
      "\n",
      "      BETTER       0.86      0.89      0.87       273\n",
      "        NONE       0.95      0.95      0.95      1048\n",
      "       WORSE       0.71      0.69      0.70       119\n",
      "\n",
      "    accuracy                           0.91      1440\n",
      "   macro avg       0.84      0.84      0.84      1440\n",
      "weighted avg       0.91      0.91      0.91      1440\n",
      "\n"
     ]
    }
   ],
   "source": [
    "INPUT_PATH = Path(\"data\")\n",
    "df_res = pd.read_csv(os.path.join(INPUT_PATH, '5_epochs_comparg_test.tsv'), sep='\\t')\n",
    "# df_train = pd.read_csv(os.path.join(INPUT_PATH, 'comparg_train.tsv'), sep='\\t')\n",
    "df_res[\"pred_labels\"].replace({0: \"NONE\", 2: \"BETTER\", 3: \"WORSE\"}, inplace=True)\n",
    "df_res[\"labels\"].replace({0: \"NONE\", 2: \"BETTER\", 3: \"WORSE\"}, inplace=True)\n",
    "df_res[\"answer_words\"] = df_res[\"answer\"].apply(lambda x: len(x.split()))\n",
    "print(f\"min: {df_res.answer_words.min()}, max: {df_res.answer_words.max()}\")\n",
    "print(classification_report(y_true=df_res.labels, y_pred=df_res.pred_labels))"
   ]
  },
  {
   "cell_type": "code",
   "execution_count": 55,
   "metadata": {},
   "outputs": [
    {
     "name": "stdout",
     "output_type": "stream",
     "text": [
      "              precision    recall  f1-score   support\n",
      "\n",
      "      BETTER       0.96      0.90      0.93        50\n",
      "        NONE       0.98      1.00      0.99       257\n",
      "       WORSE       0.67      0.57      0.62         7\n",
      "\n",
      "    accuracy                           0.97       314\n",
      "   macro avg       0.87      0.82      0.84       314\n",
      "weighted avg       0.97      0.97      0.97       314\n",
      "\n",
      "0.22\n"
     ]
    }
   ],
   "source": [
    "y_true = df_res[(df_res.answer_words >=1) & (df_res.answer_words <= 10)].labels\n",
    "y_pred = df_res[(df_res.answer_words >=1) & (df_res.answer_words <= 10)].pred_labels\n",
    "print(classification_report(y_true, y_pred))\n",
    "print(round(len(y_true)/len(df_res), 2))"
   ]
  },
  {
   "cell_type": "code",
   "execution_count": 56,
   "metadata": {},
   "outputs": [
    {
     "name": "stdout",
     "output_type": "stream",
     "text": [
      "              precision    recall  f1-score   support\n",
      "\n",
      "      BETTER       0.86      0.89      0.88       199\n",
      "        NONE       0.95      0.94      0.94       612\n",
      "       WORSE       0.74      0.73      0.73       100\n",
      "\n",
      "    accuracy                           0.91       911\n",
      "   macro avg       0.85      0.85      0.85       911\n",
      "weighted avg       0.91      0.91      0.91       911\n",
      "\n",
      "0.63\n"
     ]
    }
   ],
   "source": [
    "y_true = df_res[(df_res.answer_words > 10) & (df_res.answer_words <= 30)].labels\n",
    "y_pred = df_res[(df_res.answer_words > 10) & (df_res.answer_words <= 30)].pred_labels\n",
    "print(classification_report(y_true, y_pred))\n",
    "print(round(len(y_true)/len(df_res), 2))"
   ]
  },
  {
   "cell_type": "code",
   "execution_count": 60,
   "metadata": {},
   "outputs": [
    {
     "name": "stdout",
     "output_type": "stream",
     "text": [
      "              precision    recall  f1-score   support\n",
      "\n",
      "      BETTER       0.65      0.83      0.73        24\n",
      "        NONE       0.94      0.91      0.92       179\n",
      "       WORSE       0.45      0.42      0.43        12\n",
      "\n",
      "    accuracy                           0.87       215\n",
      "   macro avg       0.68      0.72      0.69       215\n",
      "weighted avg       0.88      0.87      0.87       215\n",
      "\n",
      "0.15\n"
     ]
    }
   ],
   "source": [
    "y_true = df_res[(df_res.answer_words > 30)].labels\n",
    "y_pred = df_res[(df_res.answer_words > 30)].pred_labels\n",
    "print(classification_report(y_true, y_pred))\n",
    "print(round(len(y_true)/len(df_res), 2))"
   ]
  }
 ],
 "metadata": {
  "kernelspec": {
   "display_name": "Python 3",
   "language": "python",
   "name": "python3"
  },
  "language_info": {
   "codemirror_mode": {
    "name": "ipython",
    "version": 3
   },
   "file_extension": ".py",
   "mimetype": "text/x-python",
   "name": "python",
   "nbconvert_exporter": "python",
   "pygments_lexer": "ipython3",
   "version": "3.10.12"
  }
 },
 "nbformat": 4,
 "nbformat_minor": 2
}
