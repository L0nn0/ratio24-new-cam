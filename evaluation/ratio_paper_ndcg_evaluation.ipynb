{
 "cells": [
  {
   "cell_type": "code",
   "execution_count": 312,
   "id": "a29f8614-812d-4eb4-8515-bf393f74b286",
   "metadata": {},
   "outputs": [],
   "source": [
    "import pandas as pd\n",
    "\n",
    "df = pd.read_csv(\"finalru_dataset_twocam_annotation_ratio.csv\")"
   ]
  },
  {
   "cell_type": "code",
   "execution_count": 315,
   "id": "df96b3bc-019f-4f04-bb8f-bc4897f557f2",
   "metadata": {},
   "outputs": [
    {
     "data": {
      "text/html": [
       "<div>\n",
       "<style scoped>\n",
       "    .dataframe tbody tr th:only-of-type {\n",
       "        vertical-align: middle;\n",
       "    }\n",
       "\n",
       "    .dataframe tbody tr th {\n",
       "        vertical-align: top;\n",
       "    }\n",
       "\n",
       "    .dataframe thead th {\n",
       "        text-align: right;\n",
       "    }\n",
       "</style>\n",
       "<table border=\"1\" class=\"dataframe\">\n",
       "  <thead>\n",
       "    <tr style=\"text-align: right;\">\n",
       "      <th></th>\n",
       "      <th>number</th>\n",
       "      <th>vs</th>\n",
       "      <th>lang</th>\n",
       "      <th>sentence</th>\n",
       "      <th>modif-sentence</th>\n",
       "      <th>Relevance</th>\n",
       "      <th>Quality</th>\n",
       "    </tr>\n",
       "  </thead>\n",
       "  <tbody>\n",
       "    <tr>\n",
       "      <th>0</th>\n",
       "      <td>1</td>\n",
       "      <td>ноутбук VS стационарный компьютер_objA</td>\n",
       "      <td>en</td>\n",
       "      <td>Оказывается, мой ноутбук работает быстрее и лу...</td>\n",
       "      <td>Оказывается, мой ноутбук работает быстрее и лу...</td>\n",
       "      <td>2</td>\n",
       "      <td>1</td>\n",
       "    </tr>\n",
       "    <tr>\n",
       "      <th>1</th>\n",
       "      <td>2</td>\n",
       "      <td>ноутбук VS стационарный компьютер_objA</td>\n",
       "      <td>en</td>\n",
       "      <td>Мой 5-летний Intel LAPTOP работает лучше и быс...</td>\n",
       "      <td>Мой 5-летний Intel LAPTOP работает лучше и быс...</td>\n",
       "      <td>2</td>\n",
       "      <td>2</td>\n",
       "    </tr>\n",
       "    <tr>\n",
       "      <th>2</th>\n",
       "      <td>3</td>\n",
       "      <td>ноутбук VS стационарный компьютер_objA</td>\n",
       "      <td>en</td>\n",
       "      <td>Я поместил SuSE на ноутбук, потому что он уста...</td>\n",
       "      <td>Я поместил SuSE на ноутбук, потому что он уста...</td>\n",
       "      <td>2</td>\n",
       "      <td>1</td>\n",
       "    </tr>\n",
       "    <tr>\n",
       "      <th>3</th>\n",
       "      <td>4</td>\n",
       "      <td>ноутбук VS стационарный компьютер_objA</td>\n",
       "      <td>en</td>\n",
       "      <td>Хотя и не самая высокая спецификация, Verona л...</td>\n",
       "      <td>Хотя и не самая высокая спецификация, Verona л...</td>\n",
       "      <td>1</td>\n",
       "      <td>1</td>\n",
       "    </tr>\n",
       "    <tr>\n",
       "      <th>4</th>\n",
       "      <td>5</td>\n",
       "      <td>ноутбук VS стационарный компьютер_objA</td>\n",
       "      <td>en</td>\n",
       "      <td>Ноутбук нуждается в большей пропускной способн...</td>\n",
       "      <td>Ноутбук нуждается в большей пропускной способн...</td>\n",
       "      <td>0</td>\n",
       "      <td>1</td>\n",
       "    </tr>\n",
       "    <tr>\n",
       "      <th>...</th>\n",
       "      <td>...</td>\n",
       "      <td>...</td>\n",
       "      <td>...</td>\n",
       "      <td>...</td>\n",
       "      <td>...</td>\n",
       "      <td>...</td>\n",
       "      <td>...</td>\n",
       "    </tr>\n",
       "    <tr>\n",
       "      <th>1278</th>\n",
       "      <td>1279</td>\n",
       "      <td>Python VS R_objA</td>\n",
       "      <td>ru</td>\n",
       "      <td>При этом зарплата специалистов, использующих P...</td>\n",
       "      <td>При этом зарплата специалистов, использующих P...</td>\n",
       "      <td>2</td>\n",
       "      <td>2</td>\n",
       "    </tr>\n",
       "    <tr>\n",
       "      <th>1279</th>\n",
       "      <td>1280</td>\n",
       "      <td>Python VS R_objA</td>\n",
       "      <td>ru</td>\n",
       "      <td>Можно ожидать, что в ближайшие годы доля Pytho...</td>\n",
       "      <td>Можно ожидать, что в ближайшие годы доля Pytho...</td>\n",
       "      <td>2</td>\n",
       "      <td>2</td>\n",
       "    </tr>\n",
       "    <tr>\n",
       "      <th>1280</th>\n",
       "      <td>1281</td>\n",
       "      <td>Python VS R_objB</td>\n",
       "      <td>ru</td>\n",
       "      <td>Зарплата у тех, кто пишет на узком языке R, вы...</td>\n",
       "      <td>Зарплата у тех, кто пишет на узком языке R, вы...</td>\n",
       "      <td>2</td>\n",
       "      <td>2</td>\n",
       "    </tr>\n",
       "    <tr>\n",
       "      <th>1281</th>\n",
       "      <td>1282</td>\n",
       "      <td>Python VS R_objB</td>\n",
       "      <td>ru</td>\n",
       "      <td>Однако, когда количество итераций превысило 10...</td>\n",
       "      <td>Однако, когда количество итераций превысило 10...</td>\n",
       "      <td>2</td>\n",
       "      <td>2</td>\n",
       "    </tr>\n",
       "    <tr>\n",
       "      <th>1282</th>\n",
       "      <td>1283</td>\n",
       "      <td>Python VS R_objB</td>\n",
       "      <td>ru</td>\n",
       "      <td>Вместе с дата-сайентистом и ментором SkillFact...</td>\n",
       "      <td>Вместе с дата-сайентистом и ментором SkillFact...</td>\n",
       "      <td>0</td>\n",
       "      <td>2</td>\n",
       "    </tr>\n",
       "  </tbody>\n",
       "</table>\n",
       "<p>1283 rows × 7 columns</p>\n",
       "</div>"
      ],
      "text/plain": [
       "      number                                      vs lang  \\\n",
       "0          1  ноутбук VS стационарный компьютер_objA   en   \n",
       "1          2  ноутбук VS стационарный компьютер_objA   en   \n",
       "2          3  ноутбук VS стационарный компьютер_objA   en   \n",
       "3          4  ноутбук VS стационарный компьютер_objA   en   \n",
       "4          5  ноутбук VS стационарный компьютер_objA   en   \n",
       "...      ...                                     ...  ...   \n",
       "1278    1279                        Python VS R_objA   ru   \n",
       "1279    1280                        Python VS R_objA   ru   \n",
       "1280    1281                        Python VS R_objB   ru   \n",
       "1281    1282                        Python VS R_objB   ru   \n",
       "1282    1283                        Python VS R_objB   ru   \n",
       "\n",
       "                                               sentence  \\\n",
       "0     Оказывается, мой ноутбук работает быстрее и лу...   \n",
       "1     Мой 5-летний Intel LAPTOP работает лучше и быс...   \n",
       "2     Я поместил SuSE на ноутбук, потому что он уста...   \n",
       "3     Хотя и не самая высокая спецификация, Verona л...   \n",
       "4     Ноутбук нуждается в большей пропускной способн...   \n",
       "...                                                 ...   \n",
       "1278  При этом зарплата специалистов, использующих P...   \n",
       "1279  Можно ожидать, что в ближайшие годы доля Pytho...   \n",
       "1280  Зарплата у тех, кто пишет на узком языке R, вы...   \n",
       "1281  Однако, когда количество итераций превысило 10...   \n",
       "1282  Вместе с дата-сайентистом и ментором SkillFact...   \n",
       "\n",
       "                                         modif-sentence  Relevance  Quality  \n",
       "0     Оказывается, мой ноутбук работает быстрее и лу...          2        1  \n",
       "1     Мой 5-летний Intel LAPTOP работает лучше и быс...          2        2  \n",
       "2     Я поместил SuSE на ноутбук, потому что он уста...          2        1  \n",
       "3     Хотя и не самая высокая спецификация, Verona л...          1        1  \n",
       "4     Ноутбук нуждается в большей пропускной способн...          0        1  \n",
       "...                                                 ...        ...      ...  \n",
       "1278  При этом зарплата специалистов, использующих P...          2        2  \n",
       "1279  Можно ожидать, что в ближайшие годы доля Pytho...          2        2  \n",
       "1280  Зарплата у тех, кто пишет на узком языке R, вы...          2        2  \n",
       "1281  Однако, когда количество итераций превысило 10...          2        2  \n",
       "1282  Вместе с дата-сайентистом и ментором SkillFact...          0        2  \n",
       "\n",
       "[1283 rows x 7 columns]"
      ]
     },
     "execution_count": 315,
     "metadata": {},
     "output_type": "execute_result"
    }
   ],
   "source": [
    "df"
   ]
  },
  {
   "cell_type": "code",
   "execution_count": 361,
   "id": "097611e9-c3a9-4a9e-bf90-7459ace75492",
   "metadata": {},
   "outputs": [],
   "source": [
    "lang = 'en'\n",
    "#lang = 'ru'\n",
    "letter = \"A\"\n",
    "#letter = \"B\"\n",
    "parameter = 'Relevance'\n",
    "parameter = 'Quality'\n",
    "\n",
    "df_en = df[(df['lang'] == lang) & (df['vs'].str.endswith(letter))]"
   ]
  },
  {
   "cell_type": "code",
   "execution_count": 362,
   "id": "f80ae7c6-d158-4e3f-9c8b-28632ffb2da9",
   "metadata": {},
   "outputs": [],
   "source": [
    "n2text = dict(enumerate(set(df_en['vs'].values.tolist())))\n",
    "text2n = dict([reversed(i) for i in n2text.items()])"
   ]
  },
  {
   "cell_type": "code",
   "execution_count": 363,
   "id": "86c75d09-5813-45d8-9762-0c80d131b6b1",
   "metadata": {
    "scrolled": true
   },
   "outputs": [
    {
     "name": "stderr",
     "output_type": "stream",
     "text": [
      "/tmp/ipykernel_1668210/924061491.py:1: SettingWithCopyWarning: \n",
      "A value is trying to be set on a copy of a slice from a DataFrame.\n",
      "Try using .loc[row_indexer,col_indexer] = value instead\n",
      "\n",
      "See the caveats in the documentation: https://pandas.pydata.org/pandas-docs/stable/user_guide/indexing.html#returning-a-view-versus-a-copy\n",
      "  df_en['qid'] = df_en['vs'].apply(lambda x: text2n[x])\n",
      "/tmp/ipykernel_1668210/924061491.py:2: SettingWithCopyWarning: \n",
      "A value is trying to be set on a copy of a slice from a DataFrame.\n",
      "Try using .loc[row_indexer,col_indexer] = value instead\n",
      "\n",
      "See the caveats in the documentation: https://pandas.pydata.org/pandas-docs/stable/user_guide/indexing.html#returning-a-view-versus-a-copy\n",
      "  df_en['0'] = 0\n",
      "/tmp/ipykernel_1668210/924061491.py:3: SettingWithCopyWarning: \n",
      "A value is trying to be set on a copy of a slice from a DataFrame.\n",
      "Try using .loc[row_indexer,col_indexer] = value instead\n",
      "\n",
      "See the caveats in the documentation: https://pandas.pydata.org/pandas-docs/stable/user_guide/indexing.html#returning-a-view-versus-a-copy\n",
      "  df_en['Q0'] = 0\n",
      "/tmp/ipykernel_1668210/924061491.py:4: SettingWithCopyWarning: \n",
      "A value is trying to be set on a copy of a slice from a DataFrame.\n",
      "Try using .loc[row_indexer,col_indexer] = value instead\n",
      "\n",
      "See the caveats in the documentation: https://pandas.pydata.org/pandas-docs/stable/user_guide/indexing.html#returning-a-view-versus-a-copy\n",
      "  df_en['doc'] = df_en['sentence'].apply(hash)\n",
      "/tmp/ipykernel_1668210/924061491.py:5: SettingWithCopyWarning: \n",
      "A value is trying to be set on a copy of a slice from a DataFrame.\n",
      "Try using .loc[row_indexer,col_indexer] = value instead\n",
      "\n",
      "See the caveats in the documentation: https://pandas.pydata.org/pandas-docs/stable/user_guide/indexing.html#returning-a-view-versus-a-copy\n",
      "  df_en['rel'] = df_en[parameter]\n",
      "/tmp/ipykernel_1668210/924061491.py:6: SettingWithCopyWarning: \n",
      "A value is trying to be set on a copy of a slice from a DataFrame.\n",
      "Try using .loc[row_indexer,col_indexer] = value instead\n",
      "\n",
      "See the caveats in the documentation: https://pandas.pydata.org/pandas-docs/stable/user_guide/indexing.html#returning-a-view-versus-a-copy\n",
      "  df_en['rank'] = df_en.groupby('vs').cumcount()+1\n",
      "/tmp/ipykernel_1668210/924061491.py:7: SettingWithCopyWarning: \n",
      "A value is trying to be set on a copy of a slice from a DataFrame.\n",
      "Try using .loc[row_indexer,col_indexer] = value instead\n",
      "\n",
      "See the caveats in the documentation: https://pandas.pydata.org/pandas-docs/stable/user_guide/indexing.html#returning-a-view-versus-a-copy\n",
      "  df_en['score'] = 100-df_en.groupby('vs').cumcount()\n",
      "/tmp/ipykernel_1668210/924061491.py:8: SettingWithCopyWarning: \n",
      "A value is trying to be set on a copy of a slice from a DataFrame.\n",
      "Try using .loc[row_indexer,col_indexer] = value instead\n",
      "\n",
      "See the caveats in the documentation: https://pandas.pydata.org/pandas-docs/stable/user_guide/indexing.html#returning-a-view-versus-a-copy\n",
      "  df_en['tag'] = df_en['lang']\n"
     ]
    }
   ],
   "source": [
    "df_en['qid'] = df_en['vs'].apply(lambda x: text2n[x])\n",
    "df_en['0'] = 0\n",
    "df_en['Q0'] = 0\n",
    "df_en['doc'] = df_en['sentence'].apply(hash)\n",
    "df_en['rel'] = df_en[parameter]\n",
    "df_en['rank'] = df_en.groupby('vs').cumcount()+1\n",
    "df_en['score'] = 100-df_en.groupby('vs').cumcount()\n",
    "df_en['tag'] = df_en['lang']"
   ]
  },
  {
   "cell_type": "code",
   "execution_count": 364,
   "id": "94f07162-6afa-40ec-8b9b-a532bb6324cd",
   "metadata": {},
   "outputs": [],
   "source": [
    "df_en[[\"qid\", \"0\", \"doc\", \"rel\"]].to_csv(f\"touche-{parameter}-{lang}-{letter}.qrels\", sep=' ', header=None, index=None)\n",
    "df_en[[\"qid\", \"Q0\", \"doc\", \"rank\", 'score', 'tag']].to_csv(f\"touche-{parameter}-run-{lang}-{letter}.txt\", sep=' ', header=None, index=None)"
   ]
  },
  {
   "cell_type": "code",
   "execution_count": 258,
   "id": "cfd4d170-a3f2-4bfc-ba10-7f0a96c03a2f",
   "metadata": {},
   "outputs": [
    {
     "data": {
      "text/html": [
       "<div>\n",
       "<style scoped>\n",
       "    .dataframe tbody tr th:only-of-type {\n",
       "        vertical-align: middle;\n",
       "    }\n",
       "\n",
       "    .dataframe tbody tr th {\n",
       "        vertical-align: top;\n",
       "    }\n",
       "\n",
       "    .dataframe thead th {\n",
       "        text-align: right;\n",
       "    }\n",
       "</style>\n",
       "<table border=\"1\" class=\"dataframe\">\n",
       "  <thead>\n",
       "    <tr style=\"text-align: right;\">\n",
       "      <th></th>\n",
       "      <th>qid</th>\n",
       "      <th>vs</th>\n",
       "      <th>Q0</th>\n",
       "      <th>doc</th>\n",
       "      <th>rank</th>\n",
       "      <th>score</th>\n",
       "      <th>tag</th>\n",
       "    </tr>\n",
       "  </thead>\n",
       "  <tbody>\n",
       "    <tr>\n",
       "      <th>1225</th>\n",
       "      <td>87</td>\n",
       "      <td>гибридный VS дизельное топливо_objA</td>\n",
       "      <td>0</td>\n",
       "      <td>572650862758076667</td>\n",
       "      <td>10</td>\n",
       "      <td>91</td>\n",
       "      <td>ru</td>\n",
       "    </tr>\n",
       "    <tr>\n",
       "      <th>1226</th>\n",
       "      <td>14</td>\n",
       "      <td>гибридный VS дизельное топливо_objB</td>\n",
       "      <td>0</td>\n",
       "      <td>3910620062558081730</td>\n",
       "      <td>1</td>\n",
       "      <td>100</td>\n",
       "      <td>ru</td>\n",
       "    </tr>\n",
       "    <tr>\n",
       "      <th>1227</th>\n",
       "      <td>14</td>\n",
       "      <td>гибридный VS дизельное топливо_objB</td>\n",
       "      <td>0</td>\n",
       "      <td>2296062544409383648</td>\n",
       "      <td>2</td>\n",
       "      <td>99</td>\n",
       "      <td>ru</td>\n",
       "    </tr>\n",
       "    <tr>\n",
       "      <th>1228</th>\n",
       "      <td>14</td>\n",
       "      <td>гибридный VS дизельное топливо_objB</td>\n",
       "      <td>0</td>\n",
       "      <td>-6909600449516314579</td>\n",
       "      <td>3</td>\n",
       "      <td>98</td>\n",
       "      <td>ru</td>\n",
       "    </tr>\n",
       "    <tr>\n",
       "      <th>1229</th>\n",
       "      <td>14</td>\n",
       "      <td>гибридный VS дизельное топливо_objB</td>\n",
       "      <td>0</td>\n",
       "      <td>2232730850845577145</td>\n",
       "      <td>4</td>\n",
       "      <td>97</td>\n",
       "      <td>ru</td>\n",
       "    </tr>\n",
       "    <tr>\n",
       "      <th>1230</th>\n",
       "      <td>14</td>\n",
       "      <td>гибридный VS дизельное топливо_objB</td>\n",
       "      <td>0</td>\n",
       "      <td>-7130069899359135068</td>\n",
       "      <td>5</td>\n",
       "      <td>96</td>\n",
       "      <td>ru</td>\n",
       "    </tr>\n",
       "    <tr>\n",
       "      <th>1231</th>\n",
       "      <td>14</td>\n",
       "      <td>гибридный VS дизельное топливо_objB</td>\n",
       "      <td>0</td>\n",
       "      <td>3051937065327474865</td>\n",
       "      <td>6</td>\n",
       "      <td>95</td>\n",
       "      <td>ru</td>\n",
       "    </tr>\n",
       "    <tr>\n",
       "      <th>1252</th>\n",
       "      <td>29</td>\n",
       "      <td>Python VS R_objA</td>\n",
       "      <td>0</td>\n",
       "      <td>-7510270963906685968</td>\n",
       "      <td>1</td>\n",
       "      <td>100</td>\n",
       "      <td>ru</td>\n",
       "    </tr>\n",
       "    <tr>\n",
       "      <th>1253</th>\n",
       "      <td>29</td>\n",
       "      <td>Python VS R_objA</td>\n",
       "      <td>0</td>\n",
       "      <td>2584216854638084806</td>\n",
       "      <td>2</td>\n",
       "      <td>99</td>\n",
       "      <td>ru</td>\n",
       "    </tr>\n",
       "    <tr>\n",
       "      <th>1254</th>\n",
       "      <td>29</td>\n",
       "      <td>Python VS R_objA</td>\n",
       "      <td>0</td>\n",
       "      <td>-8295564416573445715</td>\n",
       "      <td>3</td>\n",
       "      <td>98</td>\n",
       "      <td>ru</td>\n",
       "    </tr>\n",
       "    <tr>\n",
       "      <th>1255</th>\n",
       "      <td>29</td>\n",
       "      <td>Python VS R_objA</td>\n",
       "      <td>0</td>\n",
       "      <td>-7063695356393442735</td>\n",
       "      <td>4</td>\n",
       "      <td>97</td>\n",
       "      <td>ru</td>\n",
       "    </tr>\n",
       "    <tr>\n",
       "      <th>1256</th>\n",
       "      <td>29</td>\n",
       "      <td>Python VS R_objA</td>\n",
       "      <td>0</td>\n",
       "      <td>-6816035110798853854</td>\n",
       "      <td>5</td>\n",
       "      <td>96</td>\n",
       "      <td>ru</td>\n",
       "    </tr>\n",
       "    <tr>\n",
       "      <th>1257</th>\n",
       "      <td>29</td>\n",
       "      <td>Python VS R_objA</td>\n",
       "      <td>0</td>\n",
       "      <td>1197809151777134122</td>\n",
       "      <td>6</td>\n",
       "      <td>95</td>\n",
       "      <td>ru</td>\n",
       "    </tr>\n",
       "    <tr>\n",
       "      <th>1258</th>\n",
       "      <td>29</td>\n",
       "      <td>Python VS R_objA</td>\n",
       "      <td>0</td>\n",
       "      <td>-6742748600344000426</td>\n",
       "      <td>7</td>\n",
       "      <td>94</td>\n",
       "      <td>ru</td>\n",
       "    </tr>\n",
       "    <tr>\n",
       "      <th>1259</th>\n",
       "      <td>29</td>\n",
       "      <td>Python VS R_objA</td>\n",
       "      <td>0</td>\n",
       "      <td>-8812838825798897975</td>\n",
       "      <td>8</td>\n",
       "      <td>93</td>\n",
       "      <td>ru</td>\n",
       "    </tr>\n",
       "    <tr>\n",
       "      <th>1260</th>\n",
       "      <td>29</td>\n",
       "      <td>Python VS R_objA</td>\n",
       "      <td>0</td>\n",
       "      <td>-4629706299797585800</td>\n",
       "      <td>9</td>\n",
       "      <td>92</td>\n",
       "      <td>ru</td>\n",
       "    </tr>\n",
       "    <tr>\n",
       "      <th>1261</th>\n",
       "      <td>29</td>\n",
       "      <td>Python VS R_objA</td>\n",
       "      <td>0</td>\n",
       "      <td>-2440348244136416320</td>\n",
       "      <td>10</td>\n",
       "      <td>91</td>\n",
       "      <td>ru</td>\n",
       "    </tr>\n",
       "    <tr>\n",
       "      <th>1262</th>\n",
       "      <td>5</td>\n",
       "      <td>Python VS R_objB</td>\n",
       "      <td>0</td>\n",
       "      <td>-2768365648722230430</td>\n",
       "      <td>1</td>\n",
       "      <td>100</td>\n",
       "      <td>ru</td>\n",
       "    </tr>\n",
       "    <tr>\n",
       "      <th>1263</th>\n",
       "      <td>5</td>\n",
       "      <td>Python VS R_objB</td>\n",
       "      <td>0</td>\n",
       "      <td>-3928701697425830096</td>\n",
       "      <td>2</td>\n",
       "      <td>99</td>\n",
       "      <td>ru</td>\n",
       "    </tr>\n",
       "    <tr>\n",
       "      <th>1264</th>\n",
       "      <td>5</td>\n",
       "      <td>Python VS R_objB</td>\n",
       "      <td>0</td>\n",
       "      <td>870448919224418596</td>\n",
       "      <td>3</td>\n",
       "      <td>98</td>\n",
       "      <td>ru</td>\n",
       "    </tr>\n",
       "  </tbody>\n",
       "</table>\n",
       "</div>"
      ],
      "text/plain": [
       "      qid                                   vs  Q0                  doc  rank  \\\n",
       "1225   87  гибридный VS дизельное топливо_objA   0   572650862758076667    10   \n",
       "1226   14  гибридный VS дизельное топливо_objB   0  3910620062558081730     1   \n",
       "1227   14  гибридный VS дизельное топливо_objB   0  2296062544409383648     2   \n",
       "1228   14  гибридный VS дизельное топливо_objB   0 -6909600449516314579     3   \n",
       "1229   14  гибридный VS дизельное топливо_objB   0  2232730850845577145     4   \n",
       "1230   14  гибридный VS дизельное топливо_objB   0 -7130069899359135068     5   \n",
       "1231   14  гибридный VS дизельное топливо_objB   0  3051937065327474865     6   \n",
       "1252   29                     Python VS R_objA   0 -7510270963906685968     1   \n",
       "1253   29                     Python VS R_objA   0  2584216854638084806     2   \n",
       "1254   29                     Python VS R_objA   0 -8295564416573445715     3   \n",
       "1255   29                     Python VS R_objA   0 -7063695356393442735     4   \n",
       "1256   29                     Python VS R_objA   0 -6816035110798853854     5   \n",
       "1257   29                     Python VS R_objA   0  1197809151777134122     6   \n",
       "1258   29                     Python VS R_objA   0 -6742748600344000426     7   \n",
       "1259   29                     Python VS R_objA   0 -8812838825798897975     8   \n",
       "1260   29                     Python VS R_objA   0 -4629706299797585800     9   \n",
       "1261   29                     Python VS R_objA   0 -2440348244136416320    10   \n",
       "1262    5                     Python VS R_objB   0 -2768365648722230430     1   \n",
       "1263    5                     Python VS R_objB   0 -3928701697425830096     2   \n",
       "1264    5                     Python VS R_objB   0   870448919224418596     3   \n",
       "\n",
       "      score tag  \n",
       "1225     91  ru  \n",
       "1226    100  ru  \n",
       "1227     99  ru  \n",
       "1228     98  ru  \n",
       "1229     97  ru  \n",
       "1230     96  ru  \n",
       "1231     95  ru  \n",
       "1252    100  ru  \n",
       "1253     99  ru  \n",
       "1254     98  ru  \n",
       "1255     97  ru  \n",
       "1256     96  ru  \n",
       "1257     95  ru  \n",
       "1258     94  ru  \n",
       "1259     93  ru  \n",
       "1260     92  ru  \n",
       "1261     91  ru  \n",
       "1262    100  ru  \n",
       "1263     99  ru  \n",
       "1264     98  ru  "
      ]
     },
     "execution_count": 258,
     "metadata": {},
     "output_type": "execute_result"
    }
   ],
   "source": [
    "df_en[[\"qid\", \"Q0\", \"doc\", \"rank\", 'score', 'tag']]\n",
    "\n",
    "# doc-hash\n",
    "\n",
    "df_en[[\"qid\", 'vs', \"Q0\", \"doc\", \"rank\", 'score', 'tag']].tail(20)"
   ]
  },
  {
   "cell_type": "code",
   "execution_count": 259,
   "id": "b94f463d-581f-4c49-b9fe-7e2f8cb2b578",
   "metadata": {},
   "outputs": [
    {
     "data": {
      "text/html": [
       "<div>\n",
       "<style scoped>\n",
       "    .dataframe tbody tr th:only-of-type {\n",
       "        vertical-align: middle;\n",
       "    }\n",
       "\n",
       "    .dataframe tbody tr th {\n",
       "        vertical-align: top;\n",
       "    }\n",
       "\n",
       "    .dataframe thead th {\n",
       "        text-align: right;\n",
       "    }\n",
       "</style>\n",
       "<table border=\"1\" class=\"dataframe\">\n",
       "  <thead>\n",
       "    <tr style=\"text-align: right;\">\n",
       "      <th></th>\n",
       "      <th>qid</th>\n",
       "      <th>0</th>\n",
       "      <th>doc</th>\n",
       "      <th>rel</th>\n",
       "    </tr>\n",
       "  </thead>\n",
       "  <tbody>\n",
       "    <tr>\n",
       "      <th>20</th>\n",
       "      <td>31</td>\n",
       "      <td>0</td>\n",
       "      <td>6349598863092619531</td>\n",
       "      <td>1</td>\n",
       "    </tr>\n",
       "    <tr>\n",
       "      <th>21</th>\n",
       "      <td>31</td>\n",
       "      <td>0</td>\n",
       "      <td>-4280253378211461870</td>\n",
       "      <td>1</td>\n",
       "    </tr>\n",
       "    <tr>\n",
       "      <th>22</th>\n",
       "      <td>31</td>\n",
       "      <td>0</td>\n",
       "      <td>-4284752342778999657</td>\n",
       "      <td>2</td>\n",
       "    </tr>\n",
       "    <tr>\n",
       "      <th>23</th>\n",
       "      <td>31</td>\n",
       "      <td>0</td>\n",
       "      <td>-1103072187069079332</td>\n",
       "      <td>2</td>\n",
       "    </tr>\n",
       "    <tr>\n",
       "      <th>24</th>\n",
       "      <td>31</td>\n",
       "      <td>0</td>\n",
       "      <td>-6315935804611827058</td>\n",
       "      <td>1</td>\n",
       "    </tr>\n",
       "    <tr>\n",
       "      <th>...</th>\n",
       "      <td>...</td>\n",
       "      <td>...</td>\n",
       "      <td>...</td>\n",
       "      <td>...</td>\n",
       "    </tr>\n",
       "    <tr>\n",
       "      <th>1260</th>\n",
       "      <td>29</td>\n",
       "      <td>0</td>\n",
       "      <td>-4629706299797585800</td>\n",
       "      <td>2</td>\n",
       "    </tr>\n",
       "    <tr>\n",
       "      <th>1261</th>\n",
       "      <td>29</td>\n",
       "      <td>0</td>\n",
       "      <td>-2440348244136416320</td>\n",
       "      <td>2</td>\n",
       "    </tr>\n",
       "    <tr>\n",
       "      <th>1262</th>\n",
       "      <td>5</td>\n",
       "      <td>0</td>\n",
       "      <td>-2768365648722230430</td>\n",
       "      <td>2</td>\n",
       "    </tr>\n",
       "    <tr>\n",
       "      <th>1263</th>\n",
       "      <td>5</td>\n",
       "      <td>0</td>\n",
       "      <td>-3928701697425830096</td>\n",
       "      <td>2</td>\n",
       "    </tr>\n",
       "    <tr>\n",
       "      <th>1264</th>\n",
       "      <td>5</td>\n",
       "      <td>0</td>\n",
       "      <td>870448919224418596</td>\n",
       "      <td>2</td>\n",
       "    </tr>\n",
       "  </tbody>\n",
       "</table>\n",
       "<p>588 rows × 4 columns</p>\n",
       "</div>"
      ],
      "text/plain": [
       "      qid  0                  doc  rel\n",
       "20     31  0  6349598863092619531    1\n",
       "21     31  0 -4280253378211461870    1\n",
       "22     31  0 -4284752342778999657    2\n",
       "23     31  0 -1103072187069079332    2\n",
       "24     31  0 -6315935804611827058    1\n",
       "...   ... ..                  ...  ...\n",
       "1260   29  0 -4629706299797585800    2\n",
       "1261   29  0 -2440348244136416320    2\n",
       "1262    5  0 -2768365648722230430    2\n",
       "1263    5  0 -3928701697425830096    2\n",
       "1264    5  0   870448919224418596    2\n",
       "\n",
       "[588 rows x 4 columns]"
      ]
     },
     "execution_count": 259,
     "metadata": {},
     "output_type": "execute_result"
    }
   ],
   "source": [
    "df_en[[\"qid\", \"0\", \"doc\", \"rel\"]]"
   ]
  },
  {
   "cell_type": "code",
   "execution_count": 218,
   "id": "75fcc039-1770-4493-b90a-3723ac9a0a3b",
   "metadata": {},
   "outputs": [],
   "source": [
    "import seaborn as sns"
   ]
  },
  {
   "cell_type": "code",
   "execution_count": 231,
   "id": "66dcc16f-a8be-4087-bb82-15172734c2c4",
   "metadata": {},
   "outputs": [
    {
     "data": {
      "text/plain": [
       "<Axes: xlabel='lang', ylabel='Quality'>"
      ]
     },
     "execution_count": 231,
     "metadata": {},
     "output_type": "execute_result"
    },
    {
     "data": {
      "image/png": "[encoded data removed]",
      "text/plain": [
       "<Figure size 640x480 with 1 Axes>"
      ]
     },
     "metadata": {},
     "output_type": "display_data"
    }
   ],
   "source": [
    "sns.boxplot(data=df[['Quality', 'lang']].dropna(), x=\"lang\", y=\"Quality\")"
   ]
  },
  {
   "cell_type": "code",
   "execution_count": 232,
   "id": "065cf999-8a69-4d9f-b0c6-31d58b7dfbd1",
   "metadata": {},
   "outputs": [
    {
     "data": {
      "text/plain": [
       "<Axes: xlabel='lang', ylabel='Relevance'>"
      ]
     },
     "execution_count": 232,
     "metadata": {},
     "output_type": "execute_result"
    },
    {
     "data": {
      "image/png": "[encoded data removed]",
      "text/plain": [
       "<Figure size 640x480 with 1 Axes>"
      ]
     },
     "metadata": {},
     "output_type": "display_data"
    }
   ],
   "source": [
    "sns.boxplot(data=df[['Relevance', 'lang']].dropna(), x=\"lang\", y=\"Relevance\")"
   ]
  },
  {
   "cell_type": "code",
   "execution_count": 211,
   "id": "712f1fbc-3f0e-4402-bfbd-dada1e4773f2",
   "metadata": {},
   "outputs": [
    {
     "data": {
      "text/plain": [
       "(lang\n",
       " en    1.707358\n",
       " ru    1.435052\n",
       " Name: Relevance, dtype: float64,\n",
       " lang\n",
       " en    0.595612\n",
       " ru    0.764940\n",
       " Name: Relevance, dtype: float64)"
      ]
     },
     "execution_count": 211,
     "metadata": {},
     "output_type": "execute_result"
    }
   ],
   "source": [
    "df.groupby('lang')['Relevance'].mean(), df.groupby('lang')['Relevance'].std()"
   ]
  },
  {
   "cell_type": "code",
   "execution_count": 212,
   "id": "f2767e4b-2d99-4926-b969-68dd0e15b2a9",
   "metadata": {},
   "outputs": [
    {
     "data": {
      "text/plain": [
       "(lang\n",
       " en    1.413043\n",
       " ru    1.789691\n",
       " Name: Quality, dtype: float64,\n",
       " lang\n",
       " en    0.645793\n",
       " ru    0.451234\n",
       " Name: Quality, dtype: float64)"
      ]
     },
     "execution_count": 212,
     "metadata": {},
     "output_type": "execute_result"
    }
   ],
   "source": [
    "df.groupby('lang')['Quality'].mean(), df.groupby('lang')['Quality'].std()"
   ]
  },
  {
   "cell_type": "code",
   "execution_count": 150,
   "id": "b01f9097-e8ec-4584-b969-5c2dec5a2966",
   "metadata": {},
   "outputs": [],
   "source": [
    "# !wget https://raw.githubusercontent.com/touche-webis-de/touche-code/main/clef21/evaluate.py"
   ]
  },
  {
   "cell_type": "code",
   "execution_count": 276,
   "id": "d1b6c786-e787-4b05-a4da-f5a5775f635a",
   "metadata": {},
   "outputs": [
    {
     "name": "stdout",
     "output_type": "stream",
     "text": [
      "  Tag  nDCG@5\n",
      "0  en   0.879\n",
      "  Tag  nDCG@10\n",
      "0  en    0.948\n"
     ]
    }
   ],
   "source": [
    "!python3 evaluate_.py --qrel_path=touche-Relevance-en.qrels --run_path=touche-Relevance-run-en.txt --depth=5\n",
    "!python3 evaluate_.py --qrel_path=touche-Relevance-en.qrels --run_path=touche-Relevance-run-en.txt --depth=10"
   ]
  },
  {
   "cell_type": "code",
   "execution_count": 366,
   "id": "ed4e1917-0d1d-42a2-bd86-1b64698c0ddb",
   "metadata": {},
   "outputs": [
    {
     "name": "stdout",
     "output_type": "stream",
     "text": [
      "  Tag  nDCG@5\n",
      "0  en    0.91\n",
      "  Tag  nDCG@10\n",
      "0  en    0.965\n",
      "  Tag  nDCG@5\n",
      "0  en   0.853\n",
      "  Tag  nDCG@10\n",
      "0  en    0.939\n"
     ]
    }
   ],
   "source": [
    "!python3 evaluate_.py --qrel_path=touche-Relevance-en-A.qrels --run_path=touche-Relevance-run-en-A.txt --depth=5\n",
    "!python3 evaluate_.py --qrel_path=touche-Relevance-en-A.qrels --run_path=touche-Relevance-run-en-A.txt --depth=10\n",
    "!python3 evaluate_.py --qrel_path=touche-Relevance-en-B.qrels --run_path=touche-Relevance-run-en-B.txt --depth=5\n",
    "!python3 evaluate_.py --qrel_path=touche-Relevance-en-B.qrels --run_path=touche-Relevance-run-en-B.txt --depth=10"
   ]
  },
  {
   "cell_type": "code",
   "execution_count": 277,
   "id": "3f55b527-1529-4448-a31f-4e84220d7403",
   "metadata": {},
   "outputs": [
    {
     "name": "stdout",
     "output_type": "stream",
     "text": [
      "  Tag  nDCG@5\n",
      "0  ru   0.837\n",
      "  Tag  nDCG@10\n",
      "0  ru    0.903\n"
     ]
    }
   ],
   "source": [
    "!python3 evaluate_.py --qrel_path=touche-Relevance-ru.qrels --run_path=touche-Relevance-run-ru.txt --depth=5\n",
    "!python3 evaluate_.py --qrel_path=touche-Relevance-ru.qrels --run_path=touche-Relevance-run-ru.txt --depth=10"
   ]
  },
  {
   "cell_type": "code",
   "execution_count": 367,
   "id": "1654000a-a6a2-4c6f-80db-80865317152f",
   "metadata": {},
   "outputs": [
    {
     "name": "stdout",
     "output_type": "stream",
     "text": [
      "/ltstorage/home/nikishina/evaluate.py:54: RuntimeWarning: invalid value encountered in double_scalars\n",
      "  return np.float64(v - min_v) / np.float64(max_v - min_v)\n",
      "  Tag  nDCG@5\n",
      "0  en   0.808\n",
      "/ltstorage/home/nikishina/evaluate.py:54: RuntimeWarning: invalid value encountered in double_scalars\n",
      "  return np.float64(v - min_v) / np.float64(max_v - min_v)\n",
      "  Tag  nDCG@10\n",
      "0  en    0.914\n",
      "  Tag  nDCG@5\n",
      "0  en   0.791\n",
      "  Tag  nDCG@10\n",
      "0  en    0.898\n"
     ]
    }
   ],
   "source": [
    "!python3 evaluate_.py --qrel_path=touche-Quality-en-A.qrels --run_path=touche-Quality-run-en-A.txt --depth=5\n",
    "!python3 evaluate_.py --qrel_path=touche-Quality-en-A.qrels --run_path=touche-Quality-run-en-A.txt --depth=10\n",
    "!python3 evaluate_.py --qrel_path=touche-Quality-en-B.qrels --run_path=touche-Quality-run-en-B.txt --depth=5\n",
    "!python3 evaluate_.py --qrel_path=touche-Quality-en-B.qrels --run_path=touche-Quality-run-en-B.txt --depth=10"
   ]
  },
  {
   "cell_type": "code",
   "execution_count": 278,
   "id": "6c5cd7c4-4a5b-40f1-bf2c-a70c20fbeac0",
   "metadata": {},
   "outputs": [
    {
     "name": "stdout",
     "output_type": "stream",
     "text": [
      "/ltstorage/home/nikishina/evaluate.py:54: RuntimeWarning: invalid value encountered in double_scalars\n",
      "  return np.float64(v - min_v) / np.float64(max_v - min_v)\n",
      "  Tag  nDCG@5\n",
      "0  en   0.799\n",
      "/ltstorage/home/nikishina/evaluate.py:54: RuntimeWarning: invalid value encountered in double_scalars\n",
      "  return np.float64(v - min_v) / np.float64(max_v - min_v)\n",
      "  Tag  nDCG@10\n",
      "0  en    0.905\n"
     ]
    }
   ],
   "source": [
    "!python3 evaluate_.py --qrel_path=touche-Quality-en.qrels --run_path=touche-Quality-run-en.txt --depth=5\n",
    "!python3 evaluate_.py --qrel_path=touche-Quality-en.qrels --run_path=touche-Quality-run-en.txt --depth=10"
   ]
  },
  {
   "cell_type": "code",
   "execution_count": 368,
   "id": "b214dcaa-8f94-4128-ac10-46cba256e07c",
   "metadata": {},
   "outputs": [
    {
     "name": "stdout",
     "output_type": "stream",
     "text": [
      "  Tag  nDCG@5\n",
      "0  ru   0.842\n",
      "  Tag  nDCG@10\n",
      "0  ru    0.902\n",
      "  Tag  nDCG@5\n",
      "0  ru   0.833\n",
      "  Tag  nDCG@10\n",
      "0  ru    0.904\n"
     ]
    }
   ],
   "source": [
    "!python3 evaluate_.py --qrel_path=touche-Relevance-ru-A.qrels --run_path=touche-Relevance-run-ru-A.txt --depth=5\n",
    "!python3 evaluate_.py --qrel_path=touche-Relevance-ru-A.qrels --run_path=touche-Relevance-run-ru-A.txt --depth=10\n",
    "!python3 evaluate_.py --qrel_path=touche-Relevance-ru-B.qrels --run_path=touche-Relevance-run-ru-B.txt --depth=5\n",
    "!python3 evaluate_.py --qrel_path=touche-Relevance-ru-B.qrels --run_path=touche-Relevance-run-ru-B.txt --depth=10"
   ]
  },
  {
   "cell_type": "code",
   "execution_count": 279,
   "id": "afc48a16-3a94-4d2d-82be-3d63d7f0bca7",
   "metadata": {},
   "outputs": [
    {
     "name": "stdout",
     "output_type": "stream",
     "text": [
      "  Tag  nDCG@5\n",
      "0  ru   0.932\n",
      "  Tag  nDCG@10\n",
      "0  ru    0.963\n"
     ]
    }
   ],
   "source": [
    "!python3 evaluate_.py --qrel_path=touche-Quality-ru.qrels --run_path=touche-Quality-run-ru.txt --depth=5\n",
    "!python3 evaluate_.py --qrel_path=touche-Quality-ru.qrels --run_path=touche-Quality-run-ru.txt --depth=10"
   ]
  },
  {
   "cell_type": "code",
   "execution_count": 369,
   "id": "c4712f95-5b3f-43eb-817f-612f6ebfdd57",
   "metadata": {},
   "outputs": [
    {
     "name": "stdout",
     "output_type": "stream",
     "text": [
      "  Tag  nDCG@5\n",
      "0  ru   0.933\n",
      "  Tag  nDCG@10\n",
      "0  ru    0.962\n",
      "  Tag  nDCG@5\n",
      "0  ru   0.931\n",
      "  Tag  nDCG@10\n",
      "0  ru    0.964\n"
     ]
    }
   ],
   "source": [
    "!python3 evaluate_.py --qrel_path=touche-Quality-ru-A.qrels --run_path=touche-Quality-run-ru-A.txt --depth=5\n",
    "!python3 evaluate_.py --qrel_path=touche-Quality-ru-A.qrels --run_path=touche-Quality-run-ru-A.txt --depth=10\n",
    "!python3 evaluate_.py --qrel_path=touche-Quality-ru-B.qrels --run_path=touche-Quality-run-ru-B.txt --depth=5\n",
    "!python3 evaluate_.py --qrel_path=touche-Quality-ru-B.qrels --run_path=touche-Quality-run-ru-B.txt --depth=10"
   ]
  },
  {
   "cell_type": "code",
   "execution_count": null,
   "id": "45d64c9b-0b74-42c4-a785-d42e5887238c",
   "metadata": {},
   "outputs": [],
   "source": []
  }
 ],
 "metadata": {
  "kernelspec": {
   "display_name": "Python 3 (ipykernel)",
   "language": "python",
   "name": "python3"
  },
  "language_info": {
   "codemirror_mode": {
    "name": "ipython",
    "version": 3
   },
   "file_extension": ".py",
   "mimetype": "text/x-python",
   "name": "python",
   "nbconvert_exporter": "python",
   "pygments_lexer": "ipython3",
   "version": "3.10.12"
  }
 },
 "nbformat": 4,
 "nbformat_minor": 5
}
